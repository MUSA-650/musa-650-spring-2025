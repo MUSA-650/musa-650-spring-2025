{
 "cells": [
  {
   "cell_type": "code",
   "execution_count": 24,
   "id": "a57247dd-5b81-4ea4-bc77-c9fc34e4643c",
   "metadata": {},
   "outputs": [],
   "source": [
    "#pip install tensorflow\n",
    "#!pip install scikit-learn\n"
   ]
  },
  {
   "cell_type": "code",
   "execution_count": 25,
   "id": "19b089d2-8421-4cb9-a6f1-015abf7d1218",
   "metadata": {},
   "outputs": [],
   "source": [
    "import pandas as pandas\n",
    "import numpy as np\n",
    "import matplotlib.pyplot as plt\n",
    "import keras\n",
    "\n",
    "from keras.datasets import mnist\n",
    "\n",
    "(x_train, y_train), (x_test, y_test) = mnist.load_data()"
   ]
  },
  {
   "cell_type": "markdown",
   "id": "2d33faa4",
   "metadata": {},
   "source": [
    "# 1. Data Exploration"
   ]
  },
  {
   "cell_type": "markdown",
   "id": "256f6f80-7959-47ec-b7e9-3c674201d9d4",
   "metadata": {},
   "source": [
    "### 1.1 Dimensionality\n",
    "What is the type of the training and testing datasets?"
   ]
  },
  {
   "cell_type": "code",
   "execution_count": 26,
   "id": "3d1e8659",
   "metadata": {},
   "outputs": [
    {
     "name": "stdout",
     "output_type": "stream",
     "text": [
      "Training Data Shape: (60000, 28, 28) (60000,)\n",
      "Testing Data Shape: (10000, 28, 28) (10000,)\n"
     ]
    }
   ],
   "source": [
    "(x_train, y_train), (x_test, y_test) = mnist.load_data()\n",
    "\n",
    "print('Training Data Shape:', x_train.shape, y_train.shape)\n",
    "print('Testing Data Shape:', x_test.shape, y_test.shape)"
   ]
  },
  {
   "cell_type": "markdown",
   "id": "152f2331",
   "metadata": {},
   "source": [
    "(a) The type and structure of the training/testing datasets"
   ]
  },
  {
   "cell_type": "code",
   "execution_count": 27,
   "id": "661cf364",
   "metadata": {},
   "outputs": [
    {
     "name": "stdout",
     "output_type": "stream",
     "text": [
      "Type of x_train: <class 'numpy.ndarray'>\n",
      "Type of y_train: <class 'numpy.ndarray'>\n",
      "Type of x_test: <class 'numpy.ndarray'>\n",
      "Type of y_test: <class 'numpy.ndarray'>\n"
     ]
    }
   ],
   "source": [
    "print('Type of x_train:', type(x_train))\n",
    "print('Type of y_train:', type(y_train))\n",
    "print('Type of x_test:', type(x_test))\n",
    "print('Type of y_test:', type(y_test))"
   ]
  },
  {
   "cell_type": "markdown",
   "id": "26a1442b",
   "metadata": {},
   "source": [
    "(b) Count the number of features (pixels) and samples"
   ]
  },
  {
   "cell_type": "code",
   "execution_count": 28,
   "metadata": {},
   "outputs": [],
   "source": [
    "num_train_samples = x_train.shape[0]\n",
    "num_test_samples = x_test.shape[0]"
   ]
  },
  {
   "cell_type": "markdown",
   "id": "56cc3ff5",
   "metadata": {},
   "source": [
    "### How many features are in the training dataset? The testing dataset? How many samples are in each dataset?\n",
    "\n"
   ]
  },
  {
   "cell_type": "code",
   "execution_count": 29,
   "id": "dd606364",
   "metadata": {},
   "outputs": [
    {
     "name": "stdout",
     "output_type": "stream",
     "text": [
      "x_train shape: (60000, 28, 28)\n",
      "y_train shape: (60000,)\n",
      "x_test shape: (10000, 28, 28)\n",
      "y_test shape: (10000,)\n"
     ]
    }
   ],
   "source": [
    "print(\"x_train shape:\", x_train.shape)  \n",
    "print(\"y_train shape:\", y_train.shape)  \n",
    "print(\"x_test shape:\", x_test.shape)    \n",
    "print(\"y_test shape:\", y_test.shape)    "
   ]
  },
  {
   "cell_type": "markdown",
   "id": "f5d98a18",
   "metadata": {},
   "source": [
    "Shape: (10000, 28, 28)\n",
    "Number of samples: 10,000\n",
    "Features: 28×28 = 784"
   ]
  },
  {
   "cell_type": "markdown",
   "id": "c52ebd6a",
   "metadata": {},
   "source": [
    "### If an array has a shape of (100, 28, 28), what does each number represent in the context of image data (i.e., which number represents the number of images, and which represent the number of pixels?), and how would it change if you flattened it to a 2D array?"
   ]
  },
  {
   "cell_type": "markdown",
   "id": "208c07f5",
   "metadata": {},
   "source": [
    "100 = number of images\n",
    "\n",
    "28 and 28 = the height and width (in pixels) of each image\n",
    "\n",
    "If flattened each 28×28 image into a single row, the new shape would be (100, 784), where 100 = number of images (unchanged)\n",
    "784 = total number of pixels per image (28×28)\n",
    "\n"
   ]
  },
  {
   "cell_type": "markdown",
   "id": "532779e5",
   "metadata": {},
   "source": [
    "### How would you convert a 3D array into a 2D array without changing the total number of elements? Describe how flatten() and reshape() can be used for this purpose.\n"
   ]
  },
  {
   "cell_type": "markdown",
   "id": "41fb565c",
   "metadata": {},
   "source": [
    "Converting a 3D array into a 2D array without changing the total number of elements can be done using either flatten() or reshape() in NumPy. The flatten() method collapses all dimensions of the array into a single 1D array (i.e., a long vector), maintaining the same total number of elements but losing explicit structure. By contrast, reshape() reorganizes the array into a new shape with the same total number of elements. \n",
    "\n",
    "Flatten() collapse all dimensions into 1D array and reshape() can ontrol the new dimensions and not changing the total number of elements.\n",
    "Reshape data because many ML algorithms expect 2D array."
   ]
  },
  {
   "cell_type": "code",
   "execution_count": 30,
   "id": "fdf38696",
   "metadata": {},
   "outputs": [
    {
     "name": "stdout",
     "output_type": "stream",
     "text": [
      "(78400,)\n",
      "(100, 784)\n"
     ]
    }
   ],
   "source": [
    "import numpy as np\n",
    "\n",
    "# Example shape: (batch_size, height, width)\n",
    "X = np.random.rand(100, 28, 28)  # shape = (100, 28, 28)\n",
    "X_flat = X.flatten()  \n",
    "print(X_flat.shape)  \n",
    "\n",
    "X_2d = X.reshape(X.shape[0], -1)  # -1 lets NumPy infer the correct dimension\n",
    "print(X_2d.shape)  \n"
   ]
  },
  {
   "cell_type": "markdown",
   "id": "6bd51219-2ab8-495e-84f8-d3766ca467b9",
   "metadata": {},
   "source": [
    "### 1.2 Visualization"
   ]
  },
  {
   "cell_type": "code",
   "execution_count": 31,
   "id": "6e3f2378-2f6a-412e-a3e1-77d8765dbc4e",
   "metadata": {},
   "outputs": [
    {
     "data": {
      "image/png": "[encoded data removed]",
      "text/plain": [
       "<Figure size 640x480 with 10 Axes>"
      ]
     },
     "metadata": {},
     "output_type": "display_data"
    }
   ],
   "source": [
    "import matplotlib.pyplot as plt\n",
    "import numpy as np\n",
    "\n",
    "# For each digit 0 through 9\n",
    "digits = range(10)\n",
    "for i, d in enumerate(digits):\n",
    "    # Indices where y_test == d\n",
    "    indices = np.where(y_test == d)[0]\n",
    "    # Pick a random index\n",
    "    rand_idx = np.random.choice(indices)\n",
    "    plt.subplot(2, 5, i+1)\n",
    "    plt.imshow(x_test[rand_idx], cmap='gray')\n",
    "    plt.title(f\"Label: {d}\")\n",
    "    plt.axis('off')\n",
    "plt.show()\n"
   ]
  },
  {
   "cell_type": "markdown",
   "id": "ad85e68b",
   "metadata": {},
   "source": [
    "### 2. Data Processing"
   ]
  },
  {
   "cell_type": "markdown",
   "id": "c240b8a6",
   "metadata": {},
   "source": [
    "1. Create a 10% random subset of training and testing sets"
   ]
  },
  {
   "cell_type": "code",
   "execution_count": 32,
   "id": "4b1126ce-a20e-4db3-9ef3-7b6413af0d51",
   "metadata": {},
   "outputs": [],
   "source": [
    "import numpy as np\n",
    "\n",
    "subset_size_train = int(0.1 * len(x_train))  # 10% of training\n",
    "rand_indices_train = np.random.choice(len(x_train), subset_size_train, replace=False)\n",
    "x_train_subset = x_train[rand_indices_train]\n",
    "y_train_subset = y_train[rand_indices_train]\n",
    "\n",
    "subset_size_test = int(0.1 * len(x_test))    # 10% of testing\n",
    "rand_indices_test = np.random.choice(len(x_test), subset_size_test, replace=False)\n",
    "x_test_subset = x_test[rand_indices_test]\n",
    "y_test_subset = y_test[rand_indices_test]\n"
   ]
  },
  {
   "cell_type": "markdown",
   "id": "41e809bb",
   "metadata": {},
   "source": [
    "2. Distribution of labels"
   ]
  },
  {
   "cell_type": "code",
   "execution_count": 33,
   "id": "48705c8b",
   "metadata": {},
   "outputs": [
    {
     "name": "stdout",
     "output_type": "stream",
     "text": [
      "Full train label distribution: {0: 5923, 1: 6742, 2: 5958, 3: 6131, 4: 5842, 5: 5421, 6: 5918, 7: 6265, 8: 5851, 9: 5949}\n",
      "Subset train label distribution: {0: 615, 1: 677, 2: 584, 3: 592, 4: 572, 5: 560, 6: 596, 7: 652, 8: 553, 9: 599}\n"
     ]
    }
   ],
   "source": [
    "unique, counts = np.unique(y_train, return_counts=True)\n",
    "full_distribution = dict(zip(unique, counts))\n",
    "print(\"Full train label distribution:\", full_distribution)\n",
    "\n",
    "unique_sub, counts_sub = np.unique(y_train_subset, return_counts=True)\n",
    "sub_distribution = dict(zip(unique_sub, counts_sub))\n",
    "print(\"Subset train label distribution:\", sub_distribution)\n"
   ]
  },
  {
   "cell_type": "markdown",
   "id": "76941bdb",
   "metadata": {},
   "source": [
    "3. Subset the first 10%"
   ]
  },
  {
   "cell_type": "code",
   "execution_count": 34,
   "id": "01c00eb4",
   "metadata": {},
   "outputs": [],
   "source": [
    "first_10pct_train = int(0.1 * len(x_train))\n",
    "x_train_first = x_train[:first_10pct_train]\n",
    "y_train_first = y_train[:first_10pct_train]\n",
    "# same for x_test\n"
   ]
  },
  {
   "cell_type": "markdown",
   "id": "62ff611c",
   "metadata": {},
   "source": [
    "4. compare random selection and first portion selection\n",
    "Random selection tends to preserve overall label distribution better and selecting the first 10% could be biased if the dataset is ordered or grouped by label.\n",
    "\n",
    "5. Why subsample?\n",
    "Pros: faster to experiment and train, good for prototyping.\n",
    "Cons: might lose rare patterns or overall distribution coverage, risking less representative data.\n"
   ]
  },
  {
   "cell_type": "markdown",
   "id": "596c54af",
   "metadata": {},
   "source": [
    "### 2.2 Feature engineering"
   ]
  },
  {
   "cell_type": "markdown",
   "id": "94cc43ba",
   "metadata": {},
   "source": [
    "Features: pixel intensities (from x_train).\n",
    "\n",
    "Output/labels: digit category (0 through 9) from y_train.\n",
    "\n",
    "Importance: ML models learn mappings from input features to outputs. Mixing them up leads to data leakage or nonsense predictions."
   ]
  },
  {
   "cell_type": "markdown",
   "id": "bedb05e9",
   "metadata": {},
   "source": []
  },
  {
   "cell_type": "code",
   "execution_count": 35,
   "id": "fc68e186",
   "metadata": {},
   "outputs": [
    {
     "data": {
      "image/png": "[encoded data removed]",
      "text/plain": [
       "<Figure size 1000x400 with 2 Axes>"
      ]
     },
     "metadata": {},
     "output_type": "display_data"
    },
    {
     "data": {
      "image/png": "[encoded data removed]",
      "text/plain": [
       "<Figure size 1000x400 with 2 Axes>"
      ]
     },
     "metadata": {},
     "output_type": "display_data"
    },
    {
     "data": {
      "image/png": "[encoded data removed]",
      "text/plain": [
       "<Figure size 1000x400 with 2 Axes>"
      ]
     },
     "metadata": {},
     "output_type": "display_data"
    },
    {
     "data": {
      "image/png": "[encoded data removed]",
      "text/plain": [
       "<Figure size 1000x400 with 2 Axes>"
      ]
     },
     "metadata": {},
     "output_type": "display_data"
    }
   ],
   "source": [
    "import numpy as np\n",
    "import matplotlib.pyplot as plt\n",
    "from keras.datasets import mnist\n",
    "\n",
    "# 1. Load the MNIST dataset\n",
    "(x_train, y_train), (x_test, y_test) = mnist.load_data()\n",
    "\n",
    "# 2. Select all training images labeled \"3\"\n",
    "x_train_3 = x_train[y_train == 3]\n",
    "x_test_3 = x_test[y_test == 3]\n",
    "\n",
    "# 3. Compute pixel-wise mean and standard deviation for the training set\n",
    "mean_3_train = np.mean(x_train_3, axis=0)  # shape: (28, 28)\n",
    "std_3_train = np.std(x_train_3, axis=0)    # shape: (28, 28)\n",
    "\n",
    "# 4. Compute pixel-wise mean and standard deviation for the testing set\n",
    "mean_3_test = np.mean(x_test_3, axis=0)\n",
    "std_3_test = np.std(x_test_3, axis=0)\n",
    "\n",
    "# 5. Plot the mean and standard deviation images for training set\n",
    "plt.figure(figsize=(10, 4))\n",
    "plt.subplot(1, 2, 1)\n",
    "plt.imshow(mean_3_train, cmap='gray')\n",
    "plt.title(\"Mean image for '3' (Train)\")\n",
    "plt.axis('off')\n",
    "\n",
    "plt.subplot(1, 2, 2)\n",
    "plt.imshow(std_3_train, cmap='gray')\n",
    "plt.title(\"Std image for '3' (Train)\")\n",
    "plt.axis('off')\n",
    "plt.show()\n",
    "\n",
    "# 6. Plot the mean and standard deviation images for testing set\n",
    "plt.figure(figsize=(10, 4))\n",
    "plt.subplot(1, 2, 1)\n",
    "plt.imshow(mean_3_test, cmap='gray')\n",
    "plt.title(\"Mean image for '3' (Test)\")\n",
    "plt.axis('off')\n",
    "\n",
    "plt.subplot(1, 2, 2)\n",
    "plt.imshow(std_3_test, cmap='gray')\n",
    "plt.title(\"Std image for '3' (Test)\")\n",
    "plt.axis('off')\n",
    "plt.show()\n",
    "\n",
    "# 7. Binarize training and testing images (threshold = 128)\n",
    "x_train_3_bin = (x_train_3 > 128).astype(int)\n",
    "x_test_3_bin = (x_test_3 > 128).astype(int)\n",
    "\n",
    "mean_3_train_bin = np.mean(x_train_3_bin, axis=0)\n",
    "std_3_train_bin = np.std(x_train_3_bin, axis=0)\n",
    "\n",
    "mean_3_test_bin = np.mean(x_test_3_bin, axis=0)\n",
    "std_3_test_bin = np.std(x_test_3_bin, axis=0)\n",
    "\n",
    "# 8. Plot the binarized mean and std images (Train)\n",
    "plt.figure(figsize=(10, 4))\n",
    "plt.subplot(1, 2, 1)\n",
    "plt.imshow(mean_3_train_bin, cmap='gray')\n",
    "plt.title(\"Binarized Mean '3' (Train)\")\n",
    "plt.axis('off')\n",
    "\n",
    "plt.subplot(1, 2, 2)\n",
    "plt.imshow(std_3_train_bin, cmap='gray')\n",
    "plt.title(\"Binarized Std '3' (Train)\")\n",
    "plt.axis('off')\n",
    "plt.show()\n",
    "\n",
    "# 9. Plot the binarized mean and std images (Test)\n",
    "plt.figure(figsize=(10, 4))\n",
    "plt.subplot(1, 2, 1)\n",
    "plt.imshow(mean_3_test_bin, cmap='gray')\n",
    "plt.title(\"Binarized Mean '3' (Test)\")\n",
    "plt.axis('off')\n",
    "\n",
    "plt.subplot(1, 2, 2)\n",
    "plt.imshow(std_3_test_bin, cmap='gray')\n",
    "plt.title(\"Binarized Std '3' (Test)\")\n",
    "plt.axis('off')\n",
    "plt.show()\n"
   ]
  },
  {
   "cell_type": "markdown",
   "id": "42b01639",
   "metadata": {},
   "source": [
    "Keeping separate training and testing datasets ensures a fair evaluation of generalization, since using the same data for training and testing may lead to overfitting and an overly optimistic accuracy. If your model performs extremely well on the training set but poorly on unseen data, it indicates that the model has likely memorized training examples instead of learning patterns that generalize."
   ]
  },
  {
   "cell_type": "markdown",
   "id": "c6e6b928",
   "metadata": {},
   "source": []
  },
  {
   "cell_type": "markdown",
   "id": "8a600597",
   "metadata": {},
   "source": [
    "When we binarize an image, we are converting it into a black-and-white (0s and 1s) representation based on a chosen threshold. Each pixel in the original grayscale image has a value between 0 (black) and 255 (white). When we binarize:\n",
    "\n",
    "If a pixel's value is greater than a threshold (e.g., the mean value for that pixel across all images in a category), we set it to 1 (white).\n",
    "Otherwise, we set it to 0 (black)."
   ]
  },
  {
   "cell_type": "markdown",
   "id": "3a8afadf",
   "metadata": {},
   "source": [
    "This transformation simplifies the image by emphasizing contrast and ignoring subtle variations in pixel intensity. The new pixel value depends on whether its original value is above or below the threshold."
   ]
  },
  {
   "cell_type": "markdown",
   "id": "6fa27893",
   "metadata": {},
   "source": [
    "### Finding the Most Dissimilar and Most Similar Image in Category \"3\"\n",
    "To determine which training image of \"3\" is most similar or dissimilar to the average image:\n",
    "\n",
    "Compute the mean image for category \"3\".\n",
    "Calculate the distance (sum of squared differences) between each training image labeled \"3\" and the mean image.\n",
    "The smallest distance corresponds to the most similar image.\n",
    "The largest distance corresponds to the most dissimilar image.\n",
    "For binarized images, the results may change because:\n",
    "\n",
    "Binarization removes intensity information, leaving only a black-and-white pattern.\n",
    "This can exaggerate or suppress differences depending on how well the patterns align with the mean binarized image.\n",
    "We will plot:\n",
    "\n",
    "The most similar and dissimilar images in the regular grayscale format.\n",
    "The most similar and dissimilar images in the binarized format.\n"
   ]
  },
  {
   "cell_type": "markdown",
   "id": "536e96a3",
   "metadata": {},
   "source": [
    "### Effect of Binarization on Machine Learning Models\n",
    "Pros of binarization: Reduces complexity: Converts 256 possible pixel values into just two (0 and 1), making models simpler and faster. Removes brightness variations: Ensures that lighting differences do not affect the model's decision-making. Enhances contrast: Useful when we care about shapes and edges, not grayscale intensity.\n",
    "\n",
    "Cons of binarization: Loss of information: Fine-grained grayscale details are removed, which might reduce accuracy. More sensitivity to noise: If the threshold is not chosen well, small variations might cause big differences in classification. Might not work well for some models: Some machine learning models perform better with grayscale data rather than binary data."
   ]
  },
  {
   "cell_type": "markdown",
   "id": "cc5865f6",
   "metadata": {},
   "source": [
    "### Relation to Data Standardization\n",
    "Binarization is one form of standardization, but traditional standardization (e.g., mean-centering and scaling) preserves more information.\n",
    "\n",
    "Standardization typically transforms data so that it has zero mean and unit variance, making features comparable.\n",
    "Binarization, on the other hand, completely removes intensity variations and only keeps high-contrast edges.\n",
    "Why is standardization important?\n",
    "\n",
    "Helps neural networks learn faster by ensuring inputs have a similar scale.\n",
    "Prevents some features from dominating others (especially useful for gradient-based methods like logistic regression and deep learning).\n",
    "Improves stability in distance-based models like k-NN and SVM."
   ]
  },
  {
   "cell_type": "markdown",
   "id": "791d3c76",
   "metadata": {},
   "source": [
    "### Pixel-wise Mean and Standard Deviation for Image Variability\n",
    "The mean image gives us the \"average shape\" of a digit across multiple images.\n",
    "The standard deviation image tells us how much variation exists at each pixel.\n",
    "A high standard deviation in a certain region of the image means: \n",
    "\n",
    "There is significant variation in that area.\n",
    "Some images have a pixel on, while others have it off (e.g., different handwriting styles).\n",
    "The feature is less reliable for classification.\n",
    "\n",
    "A low standard deviation means: \n",
    "The pixel is almost always the same across all images (e.g., the middle of the number \"0\").\n",
    "It is a strong, consistent feature that helps in classification.\n",
    "\n"
   ]
  },
  {
   "cell_type": "code",
   "execution_count": null,
   "id": "d57abfd5",
   "metadata": {},
   "outputs": [],
   "source": []
  },
  {
   "cell_type": "code",
   "execution_count": 36,
   "id": "32ec40d4",
   "metadata": {},
   "outputs": [],
   "source": [
    "train_indices = np.where((y_train == 3) | (y_train == 9))[0]\n",
    "test_indices = np.where((y_test == 3) | (y_test == 9))[0]\n",
    "\n",
    "x_train_3_9 = x_train[train_indices]\n",
    "y_train_3_9 = y_train[train_indices]\n",
    "x_test_3_9 = x_test[test_indices]\n",
    "y_test_3_9 = y_test[test_indices]"
   ]
  },
  {
   "cell_type": "markdown",
   "id": "ea9bb466",
   "metadata": {},
   "source": []
  },
  {
   "cell_type": "code",
   "execution_count": 37,
   "id": "4b9d395e",
   "metadata": {},
   "outputs": [],
   "source": [
    "y_train_3_9 = np.where(y_train_3_9 == 3, 0, 1)\n",
    "y_test_3_9 = np.where(y_test_3_9 == 3, 0, 1)"
   ]
  },
  {
   "cell_type": "code",
   "execution_count": 38,
   "id": "d0d54a85",
   "metadata": {},
   "outputs": [],
   "source": [
    "x_train_3_9_flat = x_train_3_9.reshape(x_train_3_9.shape[0], -1)\n",
    "x_test_3_9_flat = x_test_3_9.reshape(x_test_3_9.shape[0], -1)"
   ]
  },
  {
   "cell_type": "code",
   "execution_count": 39,
   "id": "254179bb",
   "metadata": {},
   "outputs": [],
   "source": [
    "n_train = x_train_3_9_flat.shape[0]\n",
    "cutoff = int(0.6 * n_train)\n",
    "\n",
    "x_train_set1, y_train_set1 = x_train_3_9_flat[:cutoff], y_train_3_9[:cutoff]\n",
    "x_train_set2, y_train_set2 = x_train_3_9_flat[cutoff:], y_train_3_9[cutoff:]"
   ]
  },
  {
   "cell_type": "code",
   "execution_count": 40,
   "id": "3e4db4e1",
   "metadata": {},
   "outputs": [
    {
     "data": {
      "text/html": [
       "<style>#sk-container-id-2 {\n",
       "  /* Definition of color scheme common for light and dark mode */\n",
       "  --sklearn-color-text: #000;\n",
       "  --sklearn-color-text-muted: #666;\n",
       "  --sklearn-color-line: gray;\n",
       "  /* Definition of color scheme for unfitted estimators */\n",
       "  --sklearn-color-unfitted-level-0: #fff5e6;\n",
       "  --sklearn-color-unfitted-level-1: #f6e4d2;\n",
       "  --sklearn-color-unfitted-level-2: #ffe0b3;\n",
       "  --sklearn-color-unfitted-level-3: chocolate;\n",
       "  /* Definition of color scheme for fitted estimators */\n",
       "  --sklearn-color-fitted-level-0: #f0f8ff;\n",
       "  --sklearn-color-fitted-level-1: #d4ebff;\n",
       "  --sklearn-color-fitted-level-2: #b3dbfd;\n",
       "  --sklearn-color-fitted-level-3: cornflowerblue;\n",
       "\n",
       "  /* Specific color for light theme */\n",
       "  --sklearn-color-text-on-default-background: var(--sg-text-color, var(--theme-code-foreground, var(--jp-content-font-color1, black)));\n",
       "  --sklearn-color-background: var(--sg-background-color, var(--theme-background, var(--jp-layout-color0, white)));\n",
       "  --sklearn-color-border-box: var(--sg-text-color, var(--theme-code-foreground, var(--jp-content-font-color1, black)));\n",
       "  --sklearn-color-icon: #696969;\n",
       "\n",
       "  @media (prefers-color-scheme: dark) {\n",
       "    /* Redefinition of color scheme for dark theme */\n",
       "    --sklearn-color-text-on-default-background: var(--sg-text-color, var(--theme-code-foreground, var(--jp-content-font-color1, white)));\n",
       "    --sklearn-color-background: var(--sg-background-color, var(--theme-background, var(--jp-layout-color0, #111)));\n",
       "    --sklearn-color-border-box: var(--sg-text-color, var(--theme-code-foreground, var(--jp-content-font-color1, white)));\n",
       "    --sklearn-color-icon: #878787;\n",
       "  }\n",
       "}\n",
       "\n",
       "#sk-container-id-2 {\n",
       "  color: var(--sklearn-color-text);\n",
       "}\n",
       "\n",
       "#sk-container-id-2 pre {\n",
       "  padding: 0;\n",
       "}\n",
       "\n",
       "#sk-container-id-2 input.sk-hidden--visually {\n",
       "  border: 0;\n",
       "  clip: rect(1px 1px 1px 1px);\n",
       "  clip: rect(1px, 1px, 1px, 1px);\n",
       "  height: 1px;\n",
       "  margin: -1px;\n",
       "  overflow: hidden;\n",
       "  padding: 0;\n",
       "  position: absolute;\n",
       "  width: 1px;\n",
       "}\n",
       "\n",
       "#sk-container-id-2 div.sk-dashed-wrapped {\n",
       "  border: 1px dashed var(--sklearn-color-line);\n",
       "  margin: 0 0.4em 0.5em 0.4em;\n",
       "  box-sizing: border-box;\n",
       "  padding-bottom: 0.4em;\n",
       "  background-color: var(--sklearn-color-background);\n",
       "}\n",
       "\n",
       "#sk-container-id-2 div.sk-container {\n",
       "  /* jupyter's `normalize.less` sets `[hidden] { display: none; }`\n",
       "     but bootstrap.min.css set `[hidden] { display: none !important; }`\n",
       "     so we also need the `!important` here to be able to override the\n",
       "     default hidden behavior on the sphinx rendered scikit-learn.org.\n",
       "     See: https://github.com/scikit-learn/scikit-learn/issues/21755 */\n",
       "  display: inline-block !important;\n",
       "  position: relative;\n",
       "}\n",
       "\n",
       "#sk-container-id-2 div.sk-text-repr-fallback {\n",
       "  display: none;\n",
       "}\n",
       "\n",
       "div.sk-parallel-item,\n",
       "div.sk-serial,\n",
       "div.sk-item {\n",
       "  /* draw centered vertical line to link estimators */\n",
       "  background-image: linear-gradient(var(--sklearn-color-text-on-default-background), var(--sklearn-color-text-on-default-background));\n",
       "  background-size: 2px 100%;\n",
       "  background-repeat: no-repeat;\n",
       "  background-position: center center;\n",
       "}\n",
       "\n",
       "/* Parallel-specific style estimator block */\n",
       "\n",
       "#sk-container-id-2 div.sk-parallel-item::after {\n",
       "  content: \"\";\n",
       "  width: 100%;\n",
       "  border-bottom: 2px solid var(--sklearn-color-text-on-default-background);\n",
       "  flex-grow: 1;\n",
       "}\n",
       "\n",
       "#sk-container-id-2 div.sk-parallel {\n",
       "  display: flex;\n",
       "  align-items: stretch;\n",
       "  justify-content: center;\n",
       "  background-color: var(--sklearn-color-background);\n",
       "  position: relative;\n",
       "}\n",
       "\n",
       "#sk-container-id-2 div.sk-parallel-item {\n",
       "  display: flex;\n",
       "  flex-direction: column;\n",
       "}\n",
       "\n",
       "#sk-container-id-2 div.sk-parallel-item:first-child::after {\n",
       "  align-self: flex-end;\n",
       "  width: 50%;\n",
       "}\n",
       "\n",
       "#sk-container-id-2 div.sk-parallel-item:last-child::after {\n",
       "  align-self: flex-start;\n",
       "  width: 50%;\n",
       "}\n",
       "\n",
       "#sk-container-id-2 div.sk-parallel-item:only-child::after {\n",
       "  width: 0;\n",
       "}\n",
       "\n",
       "/* Serial-specific style estimator block */\n",
       "\n",
       "#sk-container-id-2 div.sk-serial {\n",
       "  display: flex;\n",
       "  flex-direction: column;\n",
       "  align-items: center;\n",
       "  background-color: var(--sklearn-color-background);\n",
       "  padding-right: 1em;\n",
       "  padding-left: 1em;\n",
       "}\n",
       "\n",
       "\n",
       "/* Toggleable style: style used for estimator/Pipeline/ColumnTransformer box that is\n",
       "clickable and can be expanded/collapsed.\n",
       "- Pipeline and ColumnTransformer use this feature and define the default style\n",
       "- Estimators will overwrite some part of the style using the `sk-estimator` class\n",
       "*/\n",
       "\n",
       "/* Pipeline and ColumnTransformer style (default) */\n",
       "\n",
       "#sk-container-id-2 div.sk-toggleable {\n",
       "  /* Default theme specific background. It is overwritten whether we have a\n",
       "  specific estimator or a Pipeline/ColumnTransformer */\n",
       "  background-color: var(--sklearn-color-background);\n",
       "}\n",
       "\n",
       "/* Toggleable label */\n",
       "#sk-container-id-2 label.sk-toggleable__label {\n",
       "  cursor: pointer;\n",
       "  display: flex;\n",
       "  width: 100%;\n",
       "  margin-bottom: 0;\n",
       "  padding: 0.5em;\n",
       "  box-sizing: border-box;\n",
       "  text-align: center;\n",
       "  align-items: start;\n",
       "  justify-content: space-between;\n",
       "  gap: 0.5em;\n",
       "}\n",
       "\n",
       "#sk-container-id-2 label.sk-toggleable__label .caption {\n",
       "  font-size: 0.6rem;\n",
       "  font-weight: lighter;\n",
       "  color: var(--sklearn-color-text-muted);\n",
       "}\n",
       "\n",
       "#sk-container-id-2 label.sk-toggleable__label-arrow:before {\n",
       "  /* Arrow on the left of the label */\n",
       "  content: \"▸\";\n",
       "  float: left;\n",
       "  margin-right: 0.25em;\n",
       "  color: var(--sklearn-color-icon);\n",
       "}\n",
       "\n",
       "#sk-container-id-2 label.sk-toggleable__label-arrow:hover:before {\n",
       "  color: var(--sklearn-color-text);\n",
       "}\n",
       "\n",
       "/* Toggleable content - dropdown */\n",
       "\n",
       "#sk-container-id-2 div.sk-toggleable__content {\n",
       "  max-height: 0;\n",
       "  max-width: 0;\n",
       "  overflow: hidden;\n",
       "  text-align: left;\n",
       "  /* unfitted */\n",
       "  background-color: var(--sklearn-color-unfitted-level-0);\n",
       "}\n",
       "\n",
       "#sk-container-id-2 div.sk-toggleable__content.fitted {\n",
       "  /* fitted */\n",
       "  background-color: var(--sklearn-color-fitted-level-0);\n",
       "}\n",
       "\n",
       "#sk-container-id-2 div.sk-toggleable__content pre {\n",
       "  margin: 0.2em;\n",
       "  border-radius: 0.25em;\n",
       "  color: var(--sklearn-color-text);\n",
       "  /* unfitted */\n",
       "  background-color: var(--sklearn-color-unfitted-level-0);\n",
       "}\n",
       "\n",
       "#sk-container-id-2 div.sk-toggleable__content.fitted pre {\n",
       "  /* unfitted */\n",
       "  background-color: var(--sklearn-color-fitted-level-0);\n",
       "}\n",
       "\n",
       "#sk-container-id-2 input.sk-toggleable__control:checked~div.sk-toggleable__content {\n",
       "  /* Expand drop-down */\n",
       "  max-height: 200px;\n",
       "  max-width: 100%;\n",
       "  overflow: auto;\n",
       "}\n",
       "\n",
       "#sk-container-id-2 input.sk-toggleable__control:checked~label.sk-toggleable__label-arrow:before {\n",
       "  content: \"▾\";\n",
       "}\n",
       "\n",
       "/* Pipeline/ColumnTransformer-specific style */\n",
       "\n",
       "#sk-container-id-2 div.sk-label input.sk-toggleable__control:checked~label.sk-toggleable__label {\n",
       "  color: var(--sklearn-color-text);\n",
       "  background-color: var(--sklearn-color-unfitted-level-2);\n",
       "}\n",
       "\n",
       "#sk-container-id-2 div.sk-label.fitted input.sk-toggleable__control:checked~label.sk-toggleable__label {\n",
       "  background-color: var(--sklearn-color-fitted-level-2);\n",
       "}\n",
       "\n",
       "/* Estimator-specific style */\n",
       "\n",
       "/* Colorize estimator box */\n",
       "#sk-container-id-2 div.sk-estimator input.sk-toggleable__control:checked~label.sk-toggleable__label {\n",
       "  /* unfitted */\n",
       "  background-color: var(--sklearn-color-unfitted-level-2);\n",
       "}\n",
       "\n",
       "#sk-container-id-2 div.sk-estimator.fitted input.sk-toggleable__control:checked~label.sk-toggleable__label {\n",
       "  /* fitted */\n",
       "  background-color: var(--sklearn-color-fitted-level-2);\n",
       "}\n",
       "\n",
       "#sk-container-id-2 div.sk-label label.sk-toggleable__label,\n",
       "#sk-container-id-2 div.sk-label label {\n",
       "  /* The background is the default theme color */\n",
       "  color: var(--sklearn-color-text-on-default-background);\n",
       "}\n",
       "\n",
       "/* On hover, darken the color of the background */\n",
       "#sk-container-id-2 div.sk-label:hover label.sk-toggleable__label {\n",
       "  color: var(--sklearn-color-text);\n",
       "  background-color: var(--sklearn-color-unfitted-level-2);\n",
       "}\n",
       "\n",
       "/* Label box, darken color on hover, fitted */\n",
       "#sk-container-id-2 div.sk-label.fitted:hover label.sk-toggleable__label.fitted {\n",
       "  color: var(--sklearn-color-text);\n",
       "  background-color: var(--sklearn-color-fitted-level-2);\n",
       "}\n",
       "\n",
       "/* Estimator label */\n",
       "\n",
       "#sk-container-id-2 div.sk-label label {\n",
       "  font-family: monospace;\n",
       "  font-weight: bold;\n",
       "  display: inline-block;\n",
       "  line-height: 1.2em;\n",
       "}\n",
       "\n",
       "#sk-container-id-2 div.sk-label-container {\n",
       "  text-align: center;\n",
       "}\n",
       "\n",
       "/* Estimator-specific */\n",
       "#sk-container-id-2 div.sk-estimator {\n",
       "  font-family: monospace;\n",
       "  border: 1px dotted var(--sklearn-color-border-box);\n",
       "  border-radius: 0.25em;\n",
       "  box-sizing: border-box;\n",
       "  margin-bottom: 0.5em;\n",
       "  /* unfitted */\n",
       "  background-color: var(--sklearn-color-unfitted-level-0);\n",
       "}\n",
       "\n",
       "#sk-container-id-2 div.sk-estimator.fitted {\n",
       "  /* fitted */\n",
       "  background-color: var(--sklearn-color-fitted-level-0);\n",
       "}\n",
       "\n",
       "/* on hover */\n",
       "#sk-container-id-2 div.sk-estimator:hover {\n",
       "  /* unfitted */\n",
       "  background-color: var(--sklearn-color-unfitted-level-2);\n",
       "}\n",
       "\n",
       "#sk-container-id-2 div.sk-estimator.fitted:hover {\n",
       "  /* fitted */\n",
       "  background-color: var(--sklearn-color-fitted-level-2);\n",
       "}\n",
       "\n",
       "/* Specification for estimator info (e.g. \"i\" and \"?\") */\n",
       "\n",
       "/* Common style for \"i\" and \"?\" */\n",
       "\n",
       ".sk-estimator-doc-link,\n",
       "a:link.sk-estimator-doc-link,\n",
       "a:visited.sk-estimator-doc-link {\n",
       "  float: right;\n",
       "  font-size: smaller;\n",
       "  line-height: 1em;\n",
       "  font-family: monospace;\n",
       "  background-color: var(--sklearn-color-background);\n",
       "  border-radius: 1em;\n",
       "  height: 1em;\n",
       "  width: 1em;\n",
       "  text-decoration: none !important;\n",
       "  margin-left: 0.5em;\n",
       "  text-align: center;\n",
       "  /* unfitted */\n",
       "  border: var(--sklearn-color-unfitted-level-1) 1pt solid;\n",
       "  color: var(--sklearn-color-unfitted-level-1);\n",
       "}\n",
       "\n",
       ".sk-estimator-doc-link.fitted,\n",
       "a:link.sk-estimator-doc-link.fitted,\n",
       "a:visited.sk-estimator-doc-link.fitted {\n",
       "  /* fitted */\n",
       "  border: var(--sklearn-color-fitted-level-1) 1pt solid;\n",
       "  color: var(--sklearn-color-fitted-level-1);\n",
       "}\n",
       "\n",
       "/* On hover */\n",
       "div.sk-estimator:hover .sk-estimator-doc-link:hover,\n",
       ".sk-estimator-doc-link:hover,\n",
       "div.sk-label-container:hover .sk-estimator-doc-link:hover,\n",
       ".sk-estimator-doc-link:hover {\n",
       "  /* unfitted */\n",
       "  background-color: var(--sklearn-color-unfitted-level-3);\n",
       "  color: var(--sklearn-color-background);\n",
       "  text-decoration: none;\n",
       "}\n",
       "\n",
       "div.sk-estimator.fitted:hover .sk-estimator-doc-link.fitted:hover,\n",
       ".sk-estimator-doc-link.fitted:hover,\n",
       "div.sk-label-container:hover .sk-estimator-doc-link.fitted:hover,\n",
       ".sk-estimator-doc-link.fitted:hover {\n",
       "  /* fitted */\n",
       "  background-color: var(--sklearn-color-fitted-level-3);\n",
       "  color: var(--sklearn-color-background);\n",
       "  text-decoration: none;\n",
       "}\n",
       "\n",
       "/* Span, style for the box shown on hovering the info icon */\n",
       ".sk-estimator-doc-link span {\n",
       "  display: none;\n",
       "  z-index: 9999;\n",
       "  position: relative;\n",
       "  font-weight: normal;\n",
       "  right: .2ex;\n",
       "  padding: .5ex;\n",
       "  margin: .5ex;\n",
       "  width: min-content;\n",
       "  min-width: 20ex;\n",
       "  max-width: 50ex;\n",
       "  color: var(--sklearn-color-text);\n",
       "  box-shadow: 2pt 2pt 4pt #999;\n",
       "  /* unfitted */\n",
       "  background: var(--sklearn-color-unfitted-level-0);\n",
       "  border: .5pt solid var(--sklearn-color-unfitted-level-3);\n",
       "}\n",
       "\n",
       ".sk-estimator-doc-link.fitted span {\n",
       "  /* fitted */\n",
       "  background: var(--sklearn-color-fitted-level-0);\n",
       "  border: var(--sklearn-color-fitted-level-3);\n",
       "}\n",
       "\n",
       ".sk-estimator-doc-link:hover span {\n",
       "  display: block;\n",
       "}\n",
       "\n",
       "/* \"?\"-specific style due to the `<a>` HTML tag */\n",
       "\n",
       "#sk-container-id-2 a.estimator_doc_link {\n",
       "  float: right;\n",
       "  font-size: 1rem;\n",
       "  line-height: 1em;\n",
       "  font-family: monospace;\n",
       "  background-color: var(--sklearn-color-background);\n",
       "  border-radius: 1rem;\n",
       "  height: 1rem;\n",
       "  width: 1rem;\n",
       "  text-decoration: none;\n",
       "  /* unfitted */\n",
       "  color: var(--sklearn-color-unfitted-level-1);\n",
       "  border: var(--sklearn-color-unfitted-level-1) 1pt solid;\n",
       "}\n",
       "\n",
       "#sk-container-id-2 a.estimator_doc_link.fitted {\n",
       "  /* fitted */\n",
       "  border: var(--sklearn-color-fitted-level-1) 1pt solid;\n",
       "  color: var(--sklearn-color-fitted-level-1);\n",
       "}\n",
       "\n",
       "/* On hover */\n",
       "#sk-container-id-2 a.estimator_doc_link:hover {\n",
       "  /* unfitted */\n",
       "  background-color: var(--sklearn-color-unfitted-level-3);\n",
       "  color: var(--sklearn-color-background);\n",
       "  text-decoration: none;\n",
       "}\n",
       "\n",
       "#sk-container-id-2 a.estimator_doc_link.fitted:hover {\n",
       "  /* fitted */\n",
       "  background-color: var(--sklearn-color-fitted-level-3);\n",
       "}\n",
       "</style><div id=\"sk-container-id-2\" class=\"sk-top-container\"><div class=\"sk-text-repr-fallback\"><pre>SVC(kernel=&#x27;linear&#x27;)</pre><b>In a Jupyter environment, please rerun this cell to show the HTML representation or trust the notebook. <br />On GitHub, the HTML representation is unable to render, please try loading this page with nbviewer.org.</b></div><div class=\"sk-container\" hidden><div class=\"sk-item\"><div class=\"sk-estimator fitted sk-toggleable\"><input class=\"sk-toggleable__control sk-hidden--visually\" id=\"sk-estimator-id-2\" type=\"checkbox\" checked><label for=\"sk-estimator-id-2\" class=\"sk-toggleable__label fitted sk-toggleable__label-arrow\"><div><div>SVC</div></div><div><a class=\"sk-estimator-doc-link fitted\" rel=\"noreferrer\" target=\"_blank\" href=\"https://scikit-learn.org/1.6/modules/generated/sklearn.svm.SVC.html\">?<span>Documentation for SVC</span></a><span class=\"sk-estimator-doc-link fitted\">i<span>Fitted</span></span></div></label><div class=\"sk-toggleable__content fitted\"><pre>SVC(kernel=&#x27;linear&#x27;)</pre></div> </div></div></div></div>"
      ],
      "text/plain": [
       "SVC(kernel='linear')"
      ]
     },
     "execution_count": 40,
     "metadata": {},
     "output_type": "execute_result"
    }
   ],
   "source": [
    "svm_model = SVC(kernel='linear')\n",
    "svm_model.fit(x_train_set1, y_train_set1)\n"
   ]
  },
  {
   "cell_type": "code",
   "execution_count": 41,
   "id": "a4a6e197",
   "metadata": {},
   "outputs": [
    {
     "name": "stdout",
     "output_type": "stream",
     "text": [
      "SVM accuracy on Set2: 0.9733\n",
      "SVM accuracy on Test set: 0.9737\n"
     ]
    }
   ],
   "source": [
    "y_pred_set2 = svm_model.predict(x_train_set2)\n",
    "y_pred_test = svm_model.predict(x_test_3_9_flat)\n",
    "print(f\"SVM accuracy on Set2: {acc_set2:.4f}\")\n",
    "print(f\"SVM accuracy on Test set: {acc_test:.4f}\")\n"
   ]
  },
  {
   "cell_type": "markdown",
   "id": "fa179106",
   "metadata": {},
   "source": [
    "K-nearest neighbourhood"
   ]
  },
  {
   "cell_type": "code",
   "execution_count": 44,
   "id": "b12b0af5",
   "metadata": {},
   "outputs": [
    {
     "name": "stdout",
     "output_type": "stream",
     "text": [
      "k=4 --> Test Accuracy = 0.9767\n",
      "k=8 --> Test Accuracy = 0.9771\n",
      "k=12 --> Test Accuracy = 0.9767\n",
      "k=16 --> Test Accuracy = 0.9762\n",
      "k=20 --> Test Accuracy = 0.9754\n",
      "k=24 --> Test Accuracy = 0.9740\n",
      "k=28 --> Test Accuracy = 0.9732\n",
      "k=32 --> Test Accuracy = 0.9728\n",
      "k=36 --> Test Accuracy = 0.9710\n",
      "k=40 --> Test Accuracy = 0.9708\n"
     ]
    }
   ],
   "source": [
    "# 1) Make sure imports are at the top\n",
    "import numpy as np\n",
    "import matplotlib.pyplot as plt\n",
    "from keras.datasets import mnist\n",
    "from sklearn.neighbors import KNeighborsClassifier\n",
    "from sklearn.metrics import accuracy_score, confusion_matrix\n",
    "\n",
    "# 2) Data loading\n",
    "(x_train, y_train), (x_test, y_test) = mnist.load_data()\n",
    "\n",
    "# 3) Filtering or reshaping, e.g.\n",
    "selected_labels = [1, 3, 5, 7, 9]\n",
    "train_indices = np.isin(y_train, selected_labels)\n",
    "test_indices = np.isin(y_test, selected_labels)\n",
    "\n",
    "x_train_sel = x_train[train_indices]\n",
    "y_train_sel = y_train[train_indices]\n",
    "x_test_sel = x_test[test_indices]\n",
    "y_test_sel = y_test[test_indices]\n",
    "\n",
    "x_train_sel_flat = x_train_sel.reshape(x_train_sel.shape[0], -1)\n",
    "x_test_sel_flat = x_test_sel.reshape(x_test_sel.shape[0], -1)\n",
    "\n",
    "# 4) Training & evaluating multiple k values\n",
    "k_values = [4, 8, 12, 16, 20, 24, 28, 32, 36, 40]\n",
    "accuracies = {}\n",
    "conf_mats = {}\n",
    "\n",
    "for k in k_values:\n",
    "    knn = KNeighborsClassifier(n_neighbors=k)\n",
    "    knn.fit(x_train_sel_flat, y_train_sel)\n",
    "    y_pred = knn.predict(x_test_sel_flat)\n",
    "\n",
    "    acc = accuracy_score(y_test_sel, y_pred)\n",
    "    accuracies[k] = acc\n",
    "\n",
    "    cm = confusion_matrix(y_test_sel, y_pred, labels=selected_labels)\n",
    "    conf_mats[k] = cm\n",
    "\n",
    "    print(f\"k={k} --> Test Accuracy = {acc:.4f}\")\n"
   ]
  },
  {
   "cell_type": "code",
   "execution_count": null,
   "id": "ceea6bd3",
   "metadata": {},
   "outputs": [],
   "source": []
  },
  {
   "cell_type": "markdown",
   "id": "95e8dd24",
   "metadata": {},
   "source": [
    "### Why is it important to have separate training and testing datasets?\n",
    "Using a separate training set and testing set is crucial to ensure that the model’s performance is evaluated on data it has not seen before. Some key points are:\n",
    "\n",
    "Detect Overfitting: If we train and evaluate on the same dataset, the model might simply memorize the training examples, resulting in an overly optimistic accuracy.\n",
    "Generalization: We want to know how well the model performs on unseen data in real scenarios. A separate test set gives an unbiased estimate of real-world performance.\n",
    "Model Selection: If all data is used for training, we lose the ability to fairly compare different model architectures, hyperparameters, or algorithms because we won’t have a fair baseline to see which truly performs better.\n",
    "If the same data is used both for training and evaluation, the primary issues are:\n",
    "\n",
    "Overly Optimistic Metrics: The accuracy, precision, or recall you measure might look artificially high, because the model was tested on examples it already “knows.”\n",
    "Poor Real-World Performance: When actually deployed, the model might not perform nearly as well as your metrics suggest, because it has only memorized specific examples rather than learned general patterns.\n",
    "### High Accuracy on Training Set but Lower Accuracy on Testing Set\n",
    "If your model achieves a high accuracy on the training set but performs poorly on a separate testing set, it is a strong indicator of overfitting. Overfitting occurs when the model:\n",
    "\n",
    "Learns Noise or Specifics: The model fits very closely to the peculiarities of the training data, including noise or idiosyncratic details, rather than learning the broader, underlying structure.\n",
    "Fails to Generalize: As a result, when faced with new, unseen data, the model’s performance degrades significantly.\n",
    "In essence, overfitting is the scenario in which the model memorizes the training examples rather than discovering generalizable patterns. This is why the test set accuracy becomes a more honest gauge of a model’s ability to perform on new data."
   ]
  },
  {
   "cell_type": "code",
   "execution_count": null,
   "id": "8e915da0",
   "metadata": {},
   "outputs": [],
   "source": []
  }
 ],
 "metadata": {
  "kernelspec": {
   "display_name": "geospatial3",
   "language": "python",
   "name": "python3"
  },
  "language_info": {
   "codemirror_mode": {
    "name": "ipython",
    "version": 3
   },
   "file_extension": ".py",
   "mimetype": "text/x-python",
   "name": "python",
   "nbconvert_exporter": "python",
   "pygments_lexer": "ipython3",
   "version": "3.10.16"
  }
 },
 "nbformat": 4,
 "nbformat_minor": 5
}
