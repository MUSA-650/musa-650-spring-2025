{
  "nbformat": 4,
  "nbformat_minor": 0,
  "metadata": {
    "colab": {
      "name": "DL_Basics1_SimpleMLP.ipynb",
      "provenance": [],
      "include_colab_link": true
    },
    "kernelspec": {
      "name": "python3",
      "display_name": "Python 3"
    }
  },
  "cells": [
    {
      "cell_type": "markdown",
      "metadata": {
        "id": "view-in-github",
        "colab_type": "text"
      },
      "source": [
        "<a href=\"https://colab.research.google.com/github/RoyaSains/musa-650-spring-2025/blob/main/week06/DL_Basics1_SimpleMLP.ipynb\" target=\"_parent\"><img src=\"https://colab.research.google.com/assets/colab-badge.svg\" alt=\"Open In Colab\"/></a>"
      ]
    },
    {
      "cell_type": "markdown",
      "metadata": {
        "id": "zH0VLogCTY6h"
      },
      "source": [
        "\n",
        "# **Simple multi-layer perceptron**\n"
      ]
    },
    {
      "cell_type": "code",
      "metadata": {
        "id": "Krf1wwypTXdp"
      },
      "source": [
        "from __future__ import print_function\n",
        "\n",
        "import keras\n",
        "from keras.datasets import mnist\n",
        "from keras.models import Sequential\n",
        "from keras.layers import Dense, Dropout\n",
        "from tensorflow.keras.optimizers import RMSprop\n",
        "import numpy as np\n",
        "from tensorflow.python.keras.utils import np_utils\n"
      ],
      "execution_count": 1,
      "outputs": []
    },
    {
      "cell_type": "markdown",
      "metadata": {
        "id": "5B0Jjh9WTWzi"
      },
      "source": [
        "**Set vars, load MNIST (hand written digits) data**"
      ]
    },
    {
      "cell_type": "code",
      "metadata": {
        "id": "AkMEx7SBajpY",
        "outputId": "b6baf632-011e-4268-bada-f7cc417c87e1",
        "colab": {
          "base_uri": "https://localhost:8080/"
        }
      },
      "source": [
        "batch_size = 20000\n",
        "num_classes = 10\n",
        "epochs = 5\n",
        "\n",
        "# the data, split between train and test sets\n",
        "(x_train, y_train), (x_test, y_test) = mnist.load_data()\n"
      ],
      "execution_count": 2,
      "outputs": [
        {
          "output_type": "stream",
          "name": "stdout",
          "text": [
            "Downloading data from https://storage.googleapis.com/tensorflow/tf-keras-datasets/mnist.npz\n",
            "\u001b[1m11490434/11490434\u001b[0m \u001b[32m━━━━━━━━━━━━━━━━━━━━\u001b[0m\u001b[37m\u001b[0m \u001b[1m0s\u001b[0m 0us/step\n"
          ]
        }
      ]
    },
    {
      "cell_type": "code",
      "metadata": {
        "colab": {
          "base_uri": "https://localhost:8080/"
        },
        "id": "_ZcqDK4HVeZe",
        "outputId": "6b262fd9-f663-4090-f4b0-96bc28402ed5"
      },
      "source": [
        "x_train.shape"
      ],
      "execution_count": 3,
      "outputs": [
        {
          "output_type": "execute_result",
          "data": {
            "text/plain": [
              "(60000, 28, 28)"
            ]
          },
          "metadata": {},
          "execution_count": 3
        }
      ]
    },
    {
      "cell_type": "code",
      "source": [
        "import matplotlib.pyplot as plt\n",
        "plt.imshow(x_train[0],cmap=plt.cm.binary)\n",
        "plt.show()\n"
      ],
      "metadata": {
        "id": "0oMTnqXkp_zt",
        "outputId": "ef16c6c0-c29f-48b6-8a9e-c2640363af9e",
        "colab": {
          "base_uri": "https://localhost:8080/",
          "height": 430
        }
      },
      "execution_count": 4,
      "outputs": [
        {
          "output_type": "display_data",
          "data": {
            "text/plain": [
              "<Figure size 640x480 with 1 Axes>"
            ],
            "image/png": "[encoded data removed]"
          },
          "metadata": {}
        }
      ]
    },
    {
      "cell_type": "code",
      "metadata": {
        "colab": {
          "base_uri": "https://localhost:8080/"
        },
        "id": "vYdbeSuHVg1I",
        "outputId": "a4defbfb-36da-40ee-d8e7-be18a981f195"
      },
      "source": [
        "np.sum(y_train==8)"
      ],
      "execution_count": 5,
      "outputs": [
        {
          "output_type": "execute_result",
          "data": {
            "text/plain": [
              "5851"
            ]
          },
          "metadata": {},
          "execution_count": 5
        }
      ]
    },
    {
      "cell_type": "markdown",
      "metadata": {
        "id": "nLIcIGRhV3_f"
      },
      "source": [
        "**Visualize data**"
      ]
    },
    {
      "cell_type": "code",
      "metadata": {
        "id": "6VylhwjlVr4x",
        "colab": {
          "base_uri": "https://localhost:8080/",
          "height": 447
        },
        "outputId": "c76c8301-201a-4152-a2ac-860f01fc1730"
      },
      "source": [
        "import matplotlib.pyplot as plt\n",
        "\n",
        "plt.imshow(x_train[3890],cmap=plt.cm.binary)\n",
        "plt.show()\n",
        "x_train[0].shape\n",
        "\n",
        "print(y_train[3890])"
      ],
      "execution_count": null,
      "outputs": [
        {
          "output_type": "display_data",
          "data": {
            "text/plain": [
              "<Figure size 640x480 with 1 Axes>"
            ],
            "image/png": "[encoded data removed]"
          },
          "metadata": {}
        },
        {
          "output_type": "stream",
          "name": "stdout",
          "text": [
            "2\n"
          ]
        }
      ]
    },
    {
      "cell_type": "code",
      "metadata": {
        "id": "tmEmkBfZVhou",
        "colab": {
          "base_uri": "https://localhost:8080/"
        },
        "outputId": "535e1c6b-fe1f-47d6-8007-da598e92d780"
      },
      "source": [
        "x_train = x_train.reshape(60000, 784)\n",
        "x_test = x_test.reshape(10000, 784)\n",
        "x_train = x_train.astype('float32') # neural networks work on float\n",
        "x_test = x_test.astype('float32')\n",
        "x_train /= 255\n",
        "x_test /= 255\n",
        "print(x_train.shape[0], 'train samples')\n",
        "print(x_test.shape[0], 'test samples')\n",
        "\n",
        "y_train[0:20]"
      ],
      "execution_count": 6,
      "outputs": [
        {
          "output_type": "stream",
          "name": "stdout",
          "text": [
            "60000 train samples\n",
            "10000 test samples\n"
          ]
        },
        {
          "output_type": "execute_result",
          "data": {
            "text/plain": [
              "array([5, 0, 4, 1, 9, 2, 1, 3, 1, 4, 3, 5, 3, 6, 1, 7, 2, 8, 6, 9],\n",
              "      dtype=uint8)"
            ]
          },
          "metadata": {},
          "execution_count": 6
        }
      ]
    },
    {
      "cell_type": "code",
      "metadata": {
        "id": "BBn9ZkA6p5C4",
        "colab": {
          "base_uri": "https://localhost:8080/"
        },
        "outputId": "093e9abd-5912-48b4-cdbb-9bd3aaece884"
      },
      "source": [
        "y_train.shape"
      ],
      "execution_count": 7,
      "outputs": [
        {
          "output_type": "execute_result",
          "data": {
            "text/plain": [
              "(60000,)"
            ]
          },
          "metadata": {},
          "execution_count": 7
        }
      ]
    },
    {
      "cell_type": "code",
      "metadata": {
        "id": "7hAU2yCAarX6",
        "colab": {
          "base_uri": "https://localhost:8080/"
        },
        "outputId": "8ed1cfd3-9a0b-4393-8662-a4d2b638e1bd"
      },
      "source": [
        "# convert class vectors to binary class matrices\n",
        "y_train = np_utils.to_categorical(y_train, num_classes)\n",
        "y_test = np_utils.to_categorical(y_test, num_classes)\n",
        "\n",
        "y_train.shape"
      ],
      "execution_count": 8,
      "outputs": [
        {
          "output_type": "execute_result",
          "data": {
            "text/plain": [
              "(60000, 10)"
            ]
          },
          "metadata": {},
          "execution_count": 8
        }
      ]
    },
    {
      "cell_type": "code",
      "metadata": {
        "id": "QktvqwX-qA7A",
        "colab": {
          "base_uri": "https://localhost:8080/"
        },
        "outputId": "c201f5b5-abe2-4763-af79-0b6655850f22"
      },
      "source": [
        "y_train[0:20,:]"
      ],
      "execution_count": null,
      "outputs": [
        {
          "output_type": "execute_result",
          "data": {
            "text/plain": [
              "array([[0., 0., 0., 0., 0., 1., 0., 0., 0., 0.],\n",
              "       [1., 0., 0., 0., 0., 0., 0., 0., 0., 0.],\n",
              "       [0., 0., 0., 0., 1., 0., 0., 0., 0., 0.],\n",
              "       [0., 1., 0., 0., 0., 0., 0., 0., 0., 0.],\n",
              "       [0., 0., 0., 0., 0., 0., 0., 0., 0., 1.],\n",
              "       [0., 0., 1., 0., 0., 0., 0., 0., 0., 0.],\n",
              "       [0., 1., 0., 0., 0., 0., 0., 0., 0., 0.],\n",
              "       [0., 0., 0., 1., 0., 0., 0., 0., 0., 0.],\n",
              "       [0., 1., 0., 0., 0., 0., 0., 0., 0., 0.],\n",
              "       [0., 0., 0., 0., 1., 0., 0., 0., 0., 0.],\n",
              "       [0., 0., 0., 1., 0., 0., 0., 0., 0., 0.],\n",
              "       [0., 0., 0., 0., 0., 1., 0., 0., 0., 0.],\n",
              "       [0., 0., 0., 1., 0., 0., 0., 0., 0., 0.],\n",
              "       [0., 0., 0., 0., 0., 0., 1., 0., 0., 0.],\n",
              "       [0., 1., 0., 0., 0., 0., 0., 0., 0., 0.],\n",
              "       [0., 0., 0., 0., 0., 0., 0., 1., 0., 0.],\n",
              "       [0., 0., 1., 0., 0., 0., 0., 0., 0., 0.],\n",
              "       [0., 0., 0., 0., 0., 0., 0., 0., 1., 0.],\n",
              "       [0., 0., 0., 0., 0., 0., 1., 0., 0., 0.],\n",
              "       [0., 0., 0., 0., 0., 0., 0., 0., 0., 1.]], dtype=float32)"
            ]
          },
          "metadata": {},
          "execution_count": 14
        }
      ]
    },
    {
      "cell_type": "markdown",
      "metadata": {
        "id": "A6fsLFNuToGT"
      },
      "source": [
        "**Model description**\n",
        "\n",
        "- Put the \"lego blocks\" together\n"
      ]
    },
    {
      "cell_type": "code",
      "metadata": {
        "id": "da2g0aUtasqZ",
        "colab": {
          "base_uri": "https://localhost:8080/",
          "height": 193
        },
        "outputId": "a07b3cff-b6ca-44c4-88f5-a2d18ed4c485"
      },
      "source": [
        "model = Sequential()\n",
        "model.add(Dense(512, activation='relu', input_shape=(784,)))\n",
        "#model.add(Dropout(0.2))\n",
        "#model.add(Dense(512, activation='relu'))\n",
        "#model.add(Dropout(0.2))\n",
        "model.add(Dense(num_classes, activation='softmax'))\n",
        "\n",
        "model.summary()"
      ],
      "execution_count": 10,
      "outputs": [
        {
          "output_type": "display_data",
          "data": {
            "text/plain": [
              "\u001b[1mModel: \"sequential_1\"\u001b[0m\n"
            ],
            "text/html": [
              "<pre style=\"white-space:pre;overflow-x:auto;line-height:normal;font-family:Menlo,'DejaVu Sans Mono',consolas,'Courier New',monospace\"><span style=\"font-weight: bold\">Model: \"sequential_1\"</span>\n",
              "</pre>\n"
            ]
          },
          "metadata": {}
        },
        {
          "output_type": "display_data",
          "data": {
            "text/plain": [
              "┏━━━━━━━━━━━━━━━━━━━━━━━━━━━━━━━━━━━━━━┳━━━━━━━━━━━━━━━━━━━━━━━━━━━━━┳━━━━━━━━━━━━━━━━━┓\n",
              "┃\u001b[1m \u001b[0m\u001b[1mLayer (type)                        \u001b[0m\u001b[1m \u001b[0m┃\u001b[1m \u001b[0m\u001b[1mOutput Shape               \u001b[0m\u001b[1m \u001b[0m┃\u001b[1m \u001b[0m\u001b[1m        Param #\u001b[0m\u001b[1m \u001b[0m┃\n",
              "┡━━━━━━━━━━━━━━━━━━━━━━━━━━━━━━━━━━━━━━╇━━━━━━━━━━━━━━━━━━━━━━━━━━━━━╇━━━━━━━━━━━━━━━━━┩\n",
              "│ dense_2 (\u001b[38;5;33mDense\u001b[0m)                      │ (\u001b[38;5;45mNone\u001b[0m, \u001b[38;5;34m512\u001b[0m)                 │         \u001b[38;5;34m401,920\u001b[0m │\n",
              "├──────────────────────────────────────┼─────────────────────────────┼─────────────────┤\n",
              "│ dense_3 (\u001b[38;5;33mDense\u001b[0m)                      │ (\u001b[38;5;45mNone\u001b[0m, \u001b[38;5;34m10\u001b[0m)                  │           \u001b[38;5;34m5,130\u001b[0m │\n",
              "└──────────────────────────────────────┴─────────────────────────────┴─────────────────┘\n"
            ],
            "text/html": [
              "<pre style=\"white-space:pre;overflow-x:auto;line-height:normal;font-family:Menlo,'DejaVu Sans Mono',consolas,'Courier New',monospace\">┏━━━━━━━━━━━━━━━━━━━━━━━━━━━━━━━━━━━━━━┳━━━━━━━━━━━━━━━━━━━━━━━━━━━━━┳━━━━━━━━━━━━━━━━━┓\n",
              "┃<span style=\"font-weight: bold\"> Layer (type)                         </span>┃<span style=\"font-weight: bold\"> Output Shape                </span>┃<span style=\"font-weight: bold\">         Param # </span>┃\n",
              "┡━━━━━━━━━━━━━━━━━━━━━━━━━━━━━━━━━━━━━━╇━━━━━━━━━━━━━━━━━━━━━━━━━━━━━╇━━━━━━━━━━━━━━━━━┩\n",
              "│ dense_2 (<span style=\"color: #0087ff; text-decoration-color: #0087ff\">Dense</span>)                      │ (<span style=\"color: #00d7ff; text-decoration-color: #00d7ff\">None</span>, <span style=\"color: #00af00; text-decoration-color: #00af00\">512</span>)                 │         <span style=\"color: #00af00; text-decoration-color: #00af00\">401,920</span> │\n",
              "├──────────────────────────────────────┼─────────────────────────────┼─────────────────┤\n",
              "│ dense_3 (<span style=\"color: #0087ff; text-decoration-color: #0087ff\">Dense</span>)                      │ (<span style=\"color: #00d7ff; text-decoration-color: #00d7ff\">None</span>, <span style=\"color: #00af00; text-decoration-color: #00af00\">10</span>)                  │           <span style=\"color: #00af00; text-decoration-color: #00af00\">5,130</span> │\n",
              "└──────────────────────────────────────┴─────────────────────────────┴─────────────────┘\n",
              "</pre>\n"
            ]
          },
          "metadata": {}
        },
        {
          "output_type": "display_data",
          "data": {
            "text/plain": [
              "\u001b[1m Total params: \u001b[0m\u001b[38;5;34m407,050\u001b[0m (1.55 MB)\n"
            ],
            "text/html": [
              "<pre style=\"white-space:pre;overflow-x:auto;line-height:normal;font-family:Menlo,'DejaVu Sans Mono',consolas,'Courier New',monospace\"><span style=\"font-weight: bold\"> Total params: </span><span style=\"color: #00af00; text-decoration-color: #00af00\">407,050</span> (1.55 MB)\n",
              "</pre>\n"
            ]
          },
          "metadata": {}
        },
        {
          "output_type": "display_data",
          "data": {
            "text/plain": [
              "\u001b[1m Trainable params: \u001b[0m\u001b[38;5;34m407,050\u001b[0m (1.55 MB)\n"
            ],
            "text/html": [
              "<pre style=\"white-space:pre;overflow-x:auto;line-height:normal;font-family:Menlo,'DejaVu Sans Mono',consolas,'Courier New',monospace\"><span style=\"font-weight: bold\"> Trainable params: </span><span style=\"color: #00af00; text-decoration-color: #00af00\">407,050</span> (1.55 MB)\n",
              "</pre>\n"
            ]
          },
          "metadata": {}
        },
        {
          "output_type": "display_data",
          "data": {
            "text/plain": [
              "\u001b[1m Non-trainable params: \u001b[0m\u001b[38;5;34m0\u001b[0m (0.00 B)\n"
            ],
            "text/html": [
              "<pre style=\"white-space:pre;overflow-x:auto;line-height:normal;font-family:Menlo,'DejaVu Sans Mono',consolas,'Courier New',monospace\"><span style=\"font-weight: bold\"> Non-trainable params: </span><span style=\"color: #00af00; text-decoration-color: #00af00\">0</span> (0.00 B)\n",
              "</pre>\n"
            ]
          },
          "metadata": {}
        }
      ]
    },
    {
      "cell_type": "markdown",
      "metadata": {
        "id": "rhe2oZUrT22k"
      },
      "source": [
        "**Visualization of the model**"
      ]
    },
    {
      "cell_type": "code",
      "metadata": {
        "id": "jKNUlY_qR-wR",
        "colab": {
          "base_uri": "https://localhost:8080/",
          "height": 606
        },
        "outputId": "ac82a71f-7247-461e-cddc-406dc7b1de51"
      },
      "source": [
        "from tensorflow.keras.utils import plot_model\n",
        "\n",
        "#plot_model(model, to_file='model_plot.png', show_shapes=True, show_layer_names=True)\n",
        "plot_model(model, show_shapes=True, show_layer_names=True)"
      ],
      "execution_count": 11,
      "outputs": [
        {
          "output_type": "execute_result",
          "data": {
            "image/png": "[encoded data removed]",
            "text/plain": [
              "<IPython.core.display.Image object>"
            ]
          },
          "metadata": {},
          "execution_count": 11
        }
      ]
    },
    {
      "cell_type": "markdown",
      "metadata": {
        "id": "wxr8cUXYUMFG"
      },
      "source": [
        "**Compile the model**"
      ]
    },
    {
      "cell_type": "code",
      "metadata": {
        "id": "9wfzDgzIavDY"
      },
      "source": [
        "model.compile(loss='categorical_crossentropy',\n",
        "              optimizer=RMSprop(),\n",
        "              metrics=['accuracy'])"
      ],
      "execution_count": 16,
      "outputs": []
    },
    {
      "cell_type": "markdown",
      "metadata": {
        "id": "GDsuGn2wUUkl"
      },
      "source": [
        "**Fit the model**"
      ]
    },
    {
      "cell_type": "code",
      "metadata": {
        "id": "rIMwjczibWT1",
        "colab": {
          "base_uri": "https://localhost:8080/"
        },
        "outputId": "14f598f6-7c4c-4828-cda3-2f7352d511af"
      },
      "source": [
        "history = model.fit(x_train, y_train,\n",
        "                    batch_size=batch_size,\n",
        "                    epochs=10,\n",
        "                    verbose=1,\n",
        "                    validation_data=(x_test, y_test))"
      ],
      "execution_count": 22,
      "outputs": [
        {
          "output_type": "stream",
          "name": "stdout",
          "text": [
            "Epoch 1/10\n",
            "\u001b[1m3/3\u001b[0m \u001b[32m━━━━━━━━━━━━━━━━━━━━\u001b[0m\u001b[37m\u001b[0m \u001b[1m2s\u001b[0m 854ms/step - accuracy: 0.9246 - loss: 0.2734 - val_accuracy: 0.9288 - val_loss: 0.2585\n",
            "Epoch 2/10\n",
            "\u001b[1m3/3\u001b[0m \u001b[32m━━━━━━━━━━━━━━━━━━━━\u001b[0m\u001b[37m\u001b[0m \u001b[1m3s\u001b[0m 950ms/step - accuracy: 0.9258 - loss: 0.2666 - val_accuracy: 0.9278 - val_loss: 0.2592\n",
            "Epoch 3/10\n",
            "\u001b[1m3/3\u001b[0m \u001b[32m━━━━━━━━━━━━━━━━━━━━\u001b[0m\u001b[37m\u001b[0m \u001b[1m4s\u001b[0m 815ms/step - accuracy: 0.9248 - loss: 0.2710 - val_accuracy: 0.9284 - val_loss: 0.2569\n",
            "Epoch 4/10\n",
            "\u001b[1m3/3\u001b[0m \u001b[32m━━━━━━━━━━━━━━━━━━━━\u001b[0m\u001b[37m\u001b[0m \u001b[1m2s\u001b[0m 776ms/step - accuracy: 0.9272 - loss: 0.2573 - val_accuracy: 0.9300 - val_loss: 0.2465\n",
            "Epoch 5/10\n",
            "\u001b[1m3/3\u001b[0m \u001b[32m━━━━━━━━━━━━━━━━━━━━\u001b[0m\u001b[37m\u001b[0m \u001b[1m3s\u001b[0m 772ms/step - accuracy: 0.9295 - loss: 0.2542 - val_accuracy: 0.9279 - val_loss: 0.2498\n",
            "Epoch 6/10\n",
            "\u001b[1m3/3\u001b[0m \u001b[32m━━━━━━━━━━━━━━━━━━━━\u001b[0m\u001b[37m\u001b[0m \u001b[1m3s\u001b[0m 993ms/step - accuracy: 0.9271 - loss: 0.2533 - val_accuracy: 0.9318 - val_loss: 0.2384\n",
            "Epoch 7/10\n",
            "\u001b[1m3/3\u001b[0m \u001b[32m━━━━━━━━━━━━━━━━━━━━\u001b[0m\u001b[37m\u001b[0m \u001b[1m4s\u001b[0m 707ms/step - accuracy: 0.9346 - loss: 0.2376 - val_accuracy: 0.9320 - val_loss: 0.2366\n",
            "Epoch 8/10\n",
            "\u001b[1m3/3\u001b[0m \u001b[32m━━━━━━━━━━━━━━━━━━━━\u001b[0m\u001b[37m\u001b[0m \u001b[1m3s\u001b[0m 805ms/step - accuracy: 0.9298 - loss: 0.2447 - val_accuracy: 0.9322 - val_loss: 0.2346\n",
            "Epoch 9/10\n",
            "\u001b[1m3/3\u001b[0m \u001b[32m━━━━━━━━━━━━━━━━━━━━\u001b[0m\u001b[37m\u001b[0m \u001b[1m2s\u001b[0m 729ms/step - accuracy: 0.9327 - loss: 0.2360 - val_accuracy: 0.9395 - val_loss: 0.2195\n",
            "Epoch 10/10\n",
            "\u001b[1m3/3\u001b[0m \u001b[32m━━━━━━━━━━━━━━━━━━━━\u001b[0m\u001b[37m\u001b[0m \u001b[1m3s\u001b[0m 950ms/step - accuracy: 0.9377 - loss: 0.2239 - val_accuracy: 0.9356 - val_loss: 0.2287\n"
          ]
        }
      ]
    },
    {
      "cell_type": "markdown",
      "metadata": {
        "id": "59yzdghjUYz-"
      },
      "source": [
        "**Evaluate the model**"
      ]
    },
    {
      "cell_type": "code",
      "metadata": {
        "id": "i1rvdGORa0fI",
        "colab": {
          "base_uri": "https://localhost:8080/"
        },
        "outputId": "e3275ee6-d910-4e91-b63c-cf29ce290e9d"
      },
      "source": [
        "score = model.evaluate(x_test, y_test, verbose=0)\n",
        "print('Test loss:', score[0])\n",
        "print('Test accuracy:', score[1])"
      ],
      "execution_count": 21,
      "outputs": [
        {
          "output_type": "stream",
          "name": "stdout",
          "text": [
            "Test loss: 0.2729390561580658\n",
            "Test accuracy: 0.9229999780654907\n"
          ]
        }
      ]
    },
    {
      "cell_type": "code",
      "source": [
        "y_pred = model.predict(x_test)"
      ],
      "metadata": {
        "id": "rmQU-sO2-3iJ",
        "outputId": "927116b3-0cf5-422b-e283-e2beb25a73c4",
        "colab": {
          "base_uri": "https://localhost:8080/"
        }
      },
      "execution_count": 23,
      "outputs": [
        {
          "output_type": "stream",
          "name": "stdout",
          "text": [
            "\u001b[1m313/313\u001b[0m \u001b[32m━━━━━━━━━━━━━━━━━━━━\u001b[0m\u001b[37m\u001b[0m \u001b[1m1s\u001b[0m 2ms/step\n"
          ]
        }
      ]
    },
    {
      "cell_type": "code",
      "source": [
        "y_pred.shape"
      ],
      "metadata": {
        "id": "N0WhUWkY_BbN",
        "outputId": "3f52b0ee-5436-49f0-c1e4-269cb71661f2",
        "colab": {
          "base_uri": "https://localhost:8080/"
        }
      },
      "execution_count": 24,
      "outputs": [
        {
          "output_type": "execute_result",
          "data": {
            "text/plain": [
              "(10000, 10)"
            ]
          },
          "metadata": {},
          "execution_count": 24
        }
      ]
    },
    {
      "cell_type": "code",
      "source": [
        "plt.plot(y_pred[0,:])\n",
        "plt.show()"
      ],
      "metadata": {
        "id": "T1i63W7w_F62",
        "outputId": "a052a45b-352a-426c-8c47-eab5b93c5f91",
        "colab": {
          "base_uri": "https://localhost:8080/",
          "height": 430
        }
      },
      "execution_count": 36,
      "outputs": [
        {
          "output_type": "display_data",
          "data": {
            "text/plain": [
              "<Figure size 640x480 with 1 Axes>"
            ],
            "image/png": "[encoded data removed]"
          },
          "metadata": {}
        }
      ]
    },
    {
      "cell_type": "code",
      "source": [
        "y_pred[0,:] # really small probability of being 1, 2...and high probability ofbeing \"7\" for Value at number 0."
      ],
      "metadata": {
        "id": "x8XQ0QrA_Pgz",
        "outputId": "e6ac2bef-b2b9-4423-f4de-567bda407043",
        "colab": {
          "base_uri": "https://localhost:8080/"
        }
      },
      "execution_count": 25,
      "outputs": [
        {
          "output_type": "execute_result",
          "data": {
            "text/plain": [
              "array([3.9952261e-05, 1.9350794e-07, 1.8826283e-04, 1.0705839e-03,\n",
              "       2.1273102e-06, 4.9900576e-05, 1.2282027e-07, 9.9835956e-01,\n",
              "       1.0905583e-05, 2.7848553e-04], dtype=float32)"
            ]
          },
          "metadata": {},
          "execution_count": 25
        }
      ]
    },
    {
      "cell_type": "code",
      "source": [
        "y_predn = np.argmax(y_pred, axis=1) # gets index of probability being the highest"
      ],
      "metadata": {
        "id": "H15F-D-d_mWh"
      },
      "execution_count": 26,
      "outputs": []
    },
    {
      "cell_type": "code",
      "source": [
        "y_testn = np.argmax(y_test, axis=1)"
      ],
      "metadata": {
        "id": "WIgDEEps_xy-"
      },
      "execution_count": 27,
      "outputs": []
    },
    {
      "cell_type": "code",
      "source": [
        "np.where(y_predn != y_testn)[0][0:5]"
      ],
      "metadata": {
        "id": "gBPonMmiAATE",
        "outputId": "500ef5ae-acb1-4f25-96f0-8618a657ee72",
        "colab": {
          "base_uri": "https://localhost:8080/"
        }
      },
      "execution_count": 31,
      "outputs": [
        {
          "output_type": "execute_result",
          "data": {
            "text/plain": [
              "array([  8,  33,  92, 124, 149])"
            ]
          },
          "metadata": {},
          "execution_count": 31
        }
      ]
    },
    {
      "cell_type": "code",
      "source": [
        "y_testn[8]"
      ],
      "metadata": {
        "id": "GN3TbmEmAYCp",
        "outputId": "f3575f87-6c37-424d-998c-035a46562883",
        "colab": {
          "base_uri": "https://localhost:8080/"
        }
      },
      "execution_count": 32,
      "outputs": [
        {
          "output_type": "execute_result",
          "data": {
            "text/plain": [
              "5"
            ]
          },
          "metadata": {},
          "execution_count": 32
        }
      ]
    },
    {
      "cell_type": "code",
      "source": [
        "# prompt: plot image at index 8\n",
        "\n",
        "import matplotlib.pyplot as plt\n",
        "plt.imshow(x_test[8].reshape(28,28), cmap=plt.cm.binary)\n",
        "plt.show()\n"
      ],
      "metadata": {
        "id": "JFnvBsAnA5kk",
        "outputId": "e36f700f-02f9-4765-e301-f6261623bc00",
        "colab": {
          "base_uri": "https://localhost:8080/",
          "height": 430
        }
      },
      "execution_count": 35,
      "outputs": [
        {
          "output_type": "display_data",
          "data": {
            "text/plain": [
              "<Figure size 640x480 with 1 Axes>"
            ],
            "image/png": "[encoded data removed]"
          },
          "metadata": {}
        }
      ]
    },
    {
      "cell_type": "code",
      "source": [
        "(y_predn == y_testn).sum()"
      ],
      "metadata": {
        "id": "-r-pqUSw_61f",
        "outputId": "56179b8e-327e-44d8-cc37-caae2b7a7f78",
        "colab": {
          "base_uri": "https://localhost:8080/"
        }
      },
      "execution_count": 28,
      "outputs": [
        {
          "output_type": "execute_result",
          "data": {
            "text/plain": [
              "9356"
            ]
          },
          "metadata": {},
          "execution_count": 28
        }
      ]
    },
    {
      "cell_type": "markdown",
      "source": [
        "Try MNIST Fashion"
      ],
      "metadata": {
        "id": "2PlSGuKDD1rZ"
      }
    },
    {
      "cell_type": "code",
      "source": [
        "from keras.datasets import fashion_mnist\n",
        "import numpy as np\n",
        "from tensorflow.python.keras.utils import np_utils"
      ],
      "metadata": {
        "id": "sSsBc2OBD4O0"
      },
      "execution_count": 13,
      "outputs": []
    },
    {
      "cell_type": "code",
      "source": [
        "batch_size = 5000\n",
        "label_classes = 10\n",
        "epochs = 10\n",
        "\n",
        "# the data, split between train and test sets\n",
        "(x_train, y_train), (x_test, y_test) = fashion_mnist.load_data()"
      ],
      "metadata": {
        "id": "cOotMwPcEF_i"
      },
      "execution_count": 9,
      "outputs": []
    },
    {
      "cell_type": "code",
      "source": [
        "x_train.shape"
      ],
      "metadata": {
        "id": "YRGb8MByEgmb",
        "outputId": "b0ab4b54-dc4f-4a77-fda8-9a9569cfc8a9",
        "colab": {
          "base_uri": "https://localhost:8080/"
        }
      },
      "execution_count": 42,
      "outputs": [
        {
          "output_type": "execute_result",
          "data": {
            "text/plain": [
              "(60000, 28, 28)"
            ]
          },
          "metadata": {},
          "execution_count": 42
        }
      ]
    },
    {
      "cell_type": "code",
      "source": [
        "np.sum(y_train==7) # all labels are represented in the data equally"
      ],
      "metadata": {
        "id": "jQJrVhMxFAZt",
        "outputId": "f3d5b02c-5a07-4743-a47b-42ac3dd5fd61",
        "colab": {
          "base_uri": "https://localhost:8080/"
        }
      },
      "execution_count": 46,
      "outputs": [
        {
          "output_type": "execute_result",
          "data": {
            "text/plain": [
              "6000"
            ]
          },
          "metadata": {},
          "execution_count": 46
        }
      ]
    },
    {
      "cell_type": "code",
      "source": [
        "x_train = x_train.reshape(60000, 784)\n",
        "x_test = x_test.reshape(10000, 784)\n",
        "x_train = x_train.astype('float32')\n",
        "x_test = x_test.astype('float32')\n",
        "x_train /= 255\n",
        "x_test /= 255\n",
        "print(x_train.shape[0], 'train samples')\n",
        "print(x_test.shape[0], 'test samples')\n",
        "\n",
        "y_train[0:20]"
      ],
      "metadata": {
        "id": "fad5jeHTGT7v",
        "outputId": "18b22526-c029-4504-f360-e49efedbad5a",
        "colab": {
          "base_uri": "https://localhost:8080/"
        }
      },
      "execution_count": 14,
      "outputs": [
        {
          "output_type": "stream",
          "name": "stdout",
          "text": [
            "60000 train samples\n",
            "10000 test samples\n"
          ]
        },
        {
          "output_type": "execute_result",
          "data": {
            "text/plain": [
              "array([9, 0, 0, 3, 0, 2, 7, 2, 5, 5, 0, 9, 5, 5, 7, 9, 1, 0, 6, 4],\n",
              "      dtype=uint8)"
            ]
          },
          "metadata": {},
          "execution_count": 14
        }
      ]
    },
    {
      "cell_type": "code",
      "source": [
        "# convert class vectors to binary class matrices\n",
        "y_train = np_utils.to_categorical(y_train, label_classes)\n",
        "y_test = np_utils.to_categorical(y_test, label_classes)\n",
        "\n",
        "y_train.shape"
      ],
      "metadata": {
        "id": "NUVpRkJ9H0x-",
        "outputId": "3c12b3bb-3a69-4145-c28f-0389b5bd310d",
        "colab": {
          "base_uri": "https://localhost:8080/"
        }
      },
      "execution_count": 16,
      "outputs": [
        {
          "output_type": "execute_result",
          "data": {
            "text/plain": [
              "(60000, 10)"
            ]
          },
          "metadata": {},
          "execution_count": 16
        }
      ]
    },
    {
      "cell_type": "code",
      "source": [
        "np.array(x_train[0])"
      ],
      "metadata": {
        "id": "pznOGJ3ZIM6Y",
        "outputId": "2db1b272-3d16-418a-b392-0b87fc7a1645",
        "colab": {
          "base_uri": "https://localhost:8080/"
        }
      },
      "execution_count": 19,
      "outputs": [
        {
          "output_type": "execute_result",
          "data": {
            "text/plain": [
              "array([0.0000000e+00, 0.0000000e+00, 0.0000000e+00, 0.0000000e+00,\n",
              "       0.0000000e+00, 0.0000000e+00, 0.0000000e+00, 0.0000000e+00,\n",
              "       0.0000000e+00, 0.0000000e+00, 0.0000000e+00, 0.0000000e+00,\n",
              "       0.0000000e+00, 0.0000000e+00, 0.0000000e+00, 0.0000000e+00,\n",
              "       0.0000000e+00, 0.0000000e+00, 0.0000000e+00, 0.0000000e+00,\n",
              "       0.0000000e+00, 0.0000000e+00, 0.0000000e+00, 0.0000000e+00,\n",
              "       0.0000000e+00, 0.0000000e+00, 0.0000000e+00, 0.0000000e+00,\n",
              "       0.0000000e+00, 0.0000000e+00, 0.0000000e+00, 0.0000000e+00,\n",
              "       0.0000000e+00, 0.0000000e+00, 0.0000000e+00, 0.0000000e+00,\n",
              "       0.0000000e+00, 0.0000000e+00, 0.0000000e+00, 0.0000000e+00,\n",
              "       0.0000000e+00, 0.0000000e+00, 0.0000000e+00, 0.0000000e+00,\n",
              "       0.0000000e+00, 0.0000000e+00, 0.0000000e+00, 0.0000000e+00,\n",
              "       0.0000000e+00, 0.0000000e+00, 0.0000000e+00, 0.0000000e+00,\n",
              "       0.0000000e+00, 0.0000000e+00, 0.0000000e+00, 0.0000000e+00,\n",
              "       0.0000000e+00, 0.0000000e+00, 0.0000000e+00, 0.0000000e+00,\n",
              "       0.0000000e+00, 0.0000000e+00, 0.0000000e+00, 0.0000000e+00,\n",
              "       0.0000000e+00, 0.0000000e+00, 0.0000000e+00, 0.0000000e+00,\n",
              "       0.0000000e+00, 0.0000000e+00, 0.0000000e+00, 0.0000000e+00,\n",
              "       0.0000000e+00, 0.0000000e+00, 0.0000000e+00, 0.0000000e+00,\n",
              "       0.0000000e+00, 0.0000000e+00, 0.0000000e+00, 0.0000000e+00,\n",
              "       0.0000000e+00, 0.0000000e+00, 0.0000000e+00, 0.0000000e+00,\n",
              "       0.0000000e+00, 0.0000000e+00, 0.0000000e+00, 0.0000000e+00,\n",
              "       0.0000000e+00, 0.0000000e+00, 0.0000000e+00, 0.0000000e+00,\n",
              "       0.0000000e+00, 0.0000000e+00, 0.0000000e+00, 0.0000000e+00,\n",
              "       1.5378702e-05, 0.0000000e+00, 0.0000000e+00, 1.9992310e-04,\n",
              "       1.1226452e-03, 0.0000000e+00, 0.0000000e+00, 1.5378702e-05,\n",
              "       6.1514809e-05, 0.0000000e+00, 0.0000000e+00, 0.0000000e+00,\n",
              "       0.0000000e+00, 1.5378702e-05, 1.5378702e-05, 0.0000000e+00,\n",
              "       0.0000000e+00, 0.0000000e+00, 0.0000000e+00, 0.0000000e+00,\n",
              "       0.0000000e+00, 0.0000000e+00, 0.0000000e+00, 0.0000000e+00,\n",
              "       0.0000000e+00, 0.0000000e+00, 0.0000000e+00, 0.0000000e+00,\n",
              "       4.6136101e-05, 0.0000000e+00, 5.5363326e-04, 2.0915035e-03,\n",
              "       1.9530950e-03, 9.5347944e-04, 8.3044986e-04, 0.0000000e+00,\n",
              "       0.0000000e+00, 0.0000000e+00, 1.5378702e-05, 4.6136101e-05,\n",
              "       6.1514809e-05, 0.0000000e+00, 0.0000000e+00, 4.6136101e-05,\n",
              "       0.0000000e+00, 0.0000000e+00, 0.0000000e+00, 0.0000000e+00,\n",
              "       0.0000000e+00, 0.0000000e+00, 0.0000000e+00, 0.0000000e+00,\n",
              "       0.0000000e+00, 0.0000000e+00, 0.0000000e+00, 0.0000000e+00,\n",
              "       9.2272203e-05, 0.0000000e+00, 1.5686274e-03, 3.1372549e-03,\n",
              "       2.7066513e-03, 2.0607461e-03, 2.2145330e-03, 1.8915802e-03,\n",
              "       3.5371011e-04, 0.0000000e+00, 0.0000000e+00, 0.0000000e+00,\n",
              "       0.0000000e+00, 1.8454441e-04, 1.5378701e-04, 0.0000000e+00,\n",
              "       0.0000000e+00, 0.0000000e+00, 0.0000000e+00, 0.0000000e+00,\n",
              "       0.0000000e+00, 0.0000000e+00, 0.0000000e+00, 0.0000000e+00,\n",
              "       0.0000000e+00, 0.0000000e+00, 0.0000000e+00, 0.0000000e+00,\n",
              "       0.0000000e+00, 0.0000000e+00, 2.3836987e-03, 3.6293734e-03,\n",
              "       3.1833909e-03, 2.7374087e-03, 1.6455210e-03, 2.3990774e-03,\n",
              "       2.4759709e-03, 1.6762784e-03, 9.8423695e-04, 3.5371011e-04,\n",
              "       1.1841600e-03, 1.9992313e-03, 1.1072665e-03, 2.3068051e-04,\n",
              "       0.0000000e+00, 0.0000000e+00, 0.0000000e+00, 0.0000000e+00,\n",
              "       0.0000000e+00, 0.0000000e+00, 0.0000000e+00, 0.0000000e+00,\n",
              "       0.0000000e+00, 0.0000000e+00, 0.0000000e+00, 1.5378702e-05,\n",
              "       0.0000000e+00, 1.0611304e-03, 3.1833909e-03, 3.4294503e-03,\n",
              "       3.3525568e-03, 3.3217994e-03, 3.3217994e-03, 2.5067283e-03,\n",
              "       1.9530950e-03, 1.8608228e-03, 1.8762015e-03, 2.2452904e-03,\n",
              "       2.1683970e-03, 1.3533257e-03, 2.6451366e-03, 1.0149943e-03,\n",
              "       0.0000000e+00, 0.0000000e+00, 0.0000000e+00, 0.0000000e+00,\n",
              "       0.0000000e+00, 0.0000000e+00, 0.0000000e+00, 0.0000000e+00,\n",
              "       0.0000000e+00, 1.5378702e-05, 1.5378702e-05, 1.5378702e-05,\n",
              "       0.0000000e+00, 3.0757401e-03, 3.5678586e-03, 3.5678586e-03,\n",
              "       3.5832373e-03, 3.5217225e-03, 3.4294503e-03, 3.4294503e-03,\n",
              "       3.3064208e-03, 3.2756634e-03, 2.5221070e-03, 1.9530950e-03,\n",
              "       1.8915802e-03, 3.0142253e-03, 3.5217225e-03, 0.0000000e+00,\n",
              "       0.0000000e+00, 0.0000000e+00, 0.0000000e+00, 0.0000000e+00,\n",
              "       0.0000000e+00, 0.0000000e+00, 0.0000000e+00, 0.0000000e+00,\n",
              "       0.0000000e+00, 0.0000000e+00, 0.0000000e+00, 0.0000000e+00,\n",
              "       0.0000000e+00, 2.8143022e-03, 3.4602077e-03, 3.3217994e-03,\n",
              "       3.4294503e-03, 3.5063438e-03, 3.6139947e-03, 3.4909651e-03,\n",
              "       3.4448290e-03, 3.4140716e-03, 3.4448290e-03, 3.3986929e-03,\n",
              "       3.4294503e-03, 3.7677817e-03, 2.6605153e-03, 0.0000000e+00,\n",
              "       0.0000000e+00, 0.0000000e+00, 0.0000000e+00, 0.0000000e+00,\n",
              "       0.0000000e+00, 0.0000000e+00, 0.0000000e+00, 0.0000000e+00,\n",
              "       0.0000000e+00, 0.0000000e+00, 0.0000000e+00, 0.0000000e+00,\n",
              "       0.0000000e+00, 2.9680892e-03, 3.5063438e-03, 3.3525568e-03,\n",
              "       3.2756634e-03, 3.0449827e-03, 2.7681661e-03, 3.2602844e-03,\n",
              "       3.2295270e-03, 3.2449057e-03, 3.2756634e-03, 3.4294503e-03,\n",
              "       3.3833142e-03, 3.7370243e-03, 3.1064975e-03, 0.0000000e+00,\n",
              "       0.0000000e+00, 0.0000000e+00, 0.0000000e+00, 0.0000000e+00,\n",
              "       0.0000000e+00, 0.0000000e+00, 0.0000000e+00, 0.0000000e+00,\n",
              "       0.0000000e+00, 1.5378702e-05, 4.6136101e-05, 0.0000000e+00,\n",
              "       1.8454441e-04, 3.3679355e-03, 3.3833142e-03, 3.2602844e-03,\n",
              "       3.3525568e-03, 2.9527105e-03, 2.5990005e-03, 3.4909651e-03,\n",
              "       3.1987696e-03, 3.3525568e-03, 3.4448290e-03, 3.2602844e-03,\n",
              "       3.4755864e-03, 3.0296040e-03, 3.2141483e-03, 7.9969241e-04,\n",
              "       0.0000000e+00, 0.0000000e+00, 0.0000000e+00, 0.0000000e+00,\n",
              "       0.0000000e+00, 0.0000000e+00, 0.0000000e+00, 0.0000000e+00,\n",
              "       0.0000000e+00, 0.0000000e+00, 9.2272203e-05, 0.0000000e+00,\n",
              "       1.5224913e-03, 3.7524030e-03, 3.4140716e-03, 3.3833142e-03,\n",
              "       3.3525568e-03, 3.1218762e-03, 3.0449827e-03, 3.3986929e-03,\n",
              "       3.3064208e-03, 3.2756634e-03, 3.4140716e-03, 3.3833142e-03,\n",
              "       3.7677817e-03, 1.8300654e-03, 2.5682431e-03, 8.6120726e-04,\n",
              "       0.0000000e+00, 0.0000000e+00, 0.0000000e+00, 0.0000000e+00,\n",
              "       0.0000000e+00, 0.0000000e+00, 0.0000000e+00, 0.0000000e+00,\n",
              "       0.0000000e+00, 6.1514809e-05, 0.0000000e+00, 0.0000000e+00,\n",
              "       8.4582856e-04, 3.6293734e-03, 3.5063438e-03, 3.5371012e-03,\n",
              "       3.5063438e-03, 3.6908882e-03, 3.5678586e-03, 3.2756634e-03,\n",
              "       3.3525568e-03, 3.4294503e-03, 3.5986160e-03, 3.3371781e-03,\n",
              "       3.3371781e-03, 3.2141483e-03, 1.4148405e-03, 0.0000000e+00,\n",
              "       0.0000000e+00, 0.0000000e+00, 1.5378702e-05, 6.1514809e-05,\n",
              "       9.2272203e-05, 1.0765091e-04, 3.0757405e-05, 0.0000000e+00,\n",
              "       0.0000000e+00, 0.0000000e+00, 0.0000000e+00, 0.0000000e+00,\n",
              "       3.6447521e-03, 3.4755864e-03, 3.3371781e-03, 3.4294503e-03,\n",
              "       3.4140716e-03, 3.3679355e-03, 3.4140716e-03, 3.3986929e-03,\n",
              "       3.3217994e-03, 3.4294503e-03, 3.5217225e-03, 3.3064208e-03,\n",
              "       3.3525568e-03, 3.9215689e-03, 1.1841600e-03, 0.0000000e+00,\n",
              "       0.0000000e+00, 4.6136101e-05, 0.0000000e+00, 0.0000000e+00,\n",
              "       0.0000000e+00, 0.0000000e+00, 0.0000000e+00, 0.0000000e+00,\n",
              "       0.0000000e+00, 9.5347944e-04, 2.2299117e-03, 3.1372549e-03,\n",
              "       3.5063438e-03, 3.1833909e-03, 3.2756634e-03, 3.3986929e-03,\n",
              "       3.3525568e-03, 3.1987696e-03, 3.2449057e-03, 3.3525568e-03,\n",
              "       3.4448290e-03, 3.4294503e-03, 3.3679355e-03, 3.3064208e-03,\n",
              "       3.4448290e-03, 3.7524030e-03, 2.4452135e-03, 0.0000000e+00,\n",
              "       0.0000000e+00, 0.0000000e+00, 0.0000000e+00, 0.0000000e+00,\n",
              "       2.7681663e-04, 6.7666284e-04, 1.2610535e-03, 1.6455210e-03,\n",
              "       2.9065744e-03, 3.5063438e-03, 3.3833142e-03, 3.4140716e-03,\n",
              "       3.3371781e-03, 3.4755864e-03, 3.0757401e-03, 3.1526336e-03,\n",
              "       3.2449057e-03, 3.5371012e-03, 3.4448290e-03, 3.5986160e-03,\n",
              "       2.7066513e-03, 2.8911957e-03, 3.8446751e-03, 3.8139177e-03,\n",
              "       3.5832373e-03, 3.6601308e-03, 3.3064208e-03, 0.0000000e+00,\n",
              "       0.0000000e+00, 8.7658595e-04, 2.8758170e-03, 3.1987696e-03,\n",
              "       3.4448290e-03, 3.3986929e-03, 3.4448290e-03, 3.1987696e-03,\n",
              "       3.1372549e-03, 3.2910421e-03, 3.1987696e-03, 3.2141483e-03,\n",
              "       3.0757401e-03, 2.4452135e-03, 3.7677817e-03, 2.9680892e-03,\n",
              "       3.1680122e-03, 3.4294503e-03, 3.9215689e-03, 3.9215689e-03,\n",
              "       3.3986929e-03, 3.5986160e-03, 3.3986929e-03, 3.2449057e-03,\n",
              "       3.3833142e-03, 3.5678586e-03, 3.7831604e-03, 0.0000000e+00,\n",
              "       4.6136101e-05, 3.1064975e-03, 3.5063438e-03, 3.4448290e-03,\n",
              "       3.3986929e-03, 3.2449057e-03, 3.2449057e-03, 3.2910421e-03,\n",
              "       3.1526336e-03, 3.1526336e-03, 3.1526336e-03, 3.3833142e-03,\n",
              "       3.6908882e-03, 1.2302961e-03, 2.3068052e-03, 3.9215689e-03,\n",
              "       3.5217225e-03, 3.3986929e-03, 2.8911957e-03, 2.3683200e-03,\n",
              "       2.9373318e-03, 3.2295270e-03, 3.1372549e-03, 3.2141483e-03,\n",
              "       3.4140716e-03, 3.5063438e-03, 3.4602077e-03, 0.0000000e+00,\n",
              "       1.5071126e-03, 3.5832373e-03, 3.0449827e-03, 3.2295270e-03,\n",
              "       3.4140716e-03, 3.5217225e-03, 3.5217225e-03, 3.5986160e-03,\n",
              "       3.8292964e-03, 3.3833142e-03, 2.9834679e-03, 3.3064208e-03,\n",
              "       3.3371781e-03, 3.7062669e-03, 9.9961564e-04, 1.1226452e-03,\n",
              "       1.6301422e-03, 1.7993080e-03, 2.5836218e-03, 3.3679355e-03,\n",
              "       3.3986929e-03, 3.3064208e-03, 3.3371781e-03, 3.4294503e-03,\n",
              "       3.4294503e-03, 3.4448290e-03, 3.5217225e-03, 4.4598232e-04,\n",
              "       1.1534026e-03, 3.1372549e-03, 3.2602844e-03, 3.1372549e-03,\n",
              "       2.9680892e-03, 3.1526336e-03, 3.2449057e-03, 3.4602077e-03,\n",
              "       3.3217994e-03, 2.8450596e-03, 3.0296040e-03, 3.1680122e-03,\n",
              "       3.0449827e-03, 3.2756634e-03, 3.6908882e-03, 2.9988466e-03,\n",
              "       3.4909651e-03, 3.7677817e-03, 3.6755095e-03, 3.4294503e-03,\n",
              "       3.3525568e-03, 3.2602844e-03, 3.2141483e-03, 3.4140716e-03,\n",
              "       3.3833142e-03, 3.3986929e-03, 3.5371012e-03, 1.0303730e-03,\n",
              "       7.3817762e-04, 3.1218762e-03, 2.8143022e-03, 2.9834679e-03,\n",
              "       3.2756634e-03, 3.0296040e-03, 2.8450596e-03, 2.9219531e-03,\n",
              "       2.9834679e-03, 2.9527105e-03, 3.1064975e-03, 3.2910421e-03,\n",
              "       3.3679355e-03, 3.3986929e-03, 3.3833142e-03, 3.6293734e-03,\n",
              "       3.4602077e-03, 3.3217994e-03, 3.0603614e-03, 3.1680122e-03,\n",
              "       2.8604383e-03, 2.7835448e-03, 2.7220300e-03, 2.6451366e-03,\n",
              "       2.7835448e-03, 3.1526336e-03, 3.1680122e-03, 1.7685506e-03,\n",
              "       0.0000000e+00, 1.8762015e-03, 3.3679355e-03, 2.9680892e-03,\n",
              "       2.7527874e-03, 2.6297579e-03, 2.8143022e-03, 3.0142253e-03,\n",
              "       3.1372549e-03, 3.2295270e-03, 3.2756634e-03, 3.1833909e-03,\n",
              "       3.2449057e-03, 3.2295270e-03, 3.0757401e-03, 3.0142253e-03,\n",
              "       2.9834679e-03, 2.9373318e-03, 2.9988466e-03, 2.9373318e-03,\n",
              "       3.0449827e-03, 2.9527105e-03, 2.7066513e-03, 2.3990774e-03,\n",
              "       2.5682431e-03, 2.7220300e-03, 3.2295270e-03, 1.4148405e-03,\n",
              "       0.0000000e+00, 0.0000000e+00, 1.1380239e-03, 2.9065744e-03,\n",
              "       3.2602844e-03, 2.9373318e-03, 2.6912726e-03, 2.6451366e-03,\n",
              "       2.6912726e-03, 2.7835448e-03, 2.8450596e-03, 2.8911957e-03,\n",
              "       2.9065744e-03, 2.8911957e-03, 2.9680892e-03, 3.0449827e-03,\n",
              "       3.1372549e-03, 3.2141483e-03, 3.2295270e-03, 3.2295270e-03,\n",
              "       3.2449057e-03, 2.8911957e-03, 2.8911957e-03, 2.9834679e-03,\n",
              "       2.9527105e-03, 3.3217994e-03, 2.6143792e-03, 0.0000000e+00,\n",
              "       3.0757405e-05, 0.0000000e+00, 0.0000000e+00, 0.0000000e+00,\n",
              "       1.0149943e-03, 3.0757401e-03, 3.4140716e-03, 3.6447521e-03,\n",
              "       3.6755095e-03, 3.7216456e-03, 3.7831604e-03, 3.7370243e-03,\n",
              "       3.7524030e-03, 3.3986929e-03, 3.3833142e-03, 2.9680892e-03,\n",
              "       2.9373318e-03, 2.7527874e-03, 2.7989235e-03, 2.7989235e-03,\n",
              "       2.7835448e-03, 2.7066513e-03, 2.5528644e-03, 2.5836218e-03,\n",
              "       1.5224913e-03, 8.9196465e-04, 0.0000000e+00, 0.0000000e+00,\n",
              "       0.0000000e+00, 0.0000000e+00, 0.0000000e+00, 0.0000000e+00,\n",
              "       0.0000000e+00, 0.0000000e+00, 0.0000000e+00, 6.1514805e-04,\n",
              "       9.3810074e-04, 6.7666284e-04, 1.1072665e-03, 6.3052675e-04,\n",
              "       5.3825456e-04, 0.0000000e+00, 0.0000000e+00, 0.0000000e+00,\n",
              "       0.0000000e+00, 0.0000000e+00, 0.0000000e+00, 0.0000000e+00,\n",
              "       0.0000000e+00, 0.0000000e+00, 0.0000000e+00, 0.0000000e+00,\n",
              "       0.0000000e+00, 0.0000000e+00, 0.0000000e+00, 0.0000000e+00,\n",
              "       0.0000000e+00, 0.0000000e+00, 0.0000000e+00, 0.0000000e+00,\n",
              "       0.0000000e+00, 0.0000000e+00, 0.0000000e+00, 0.0000000e+00,\n",
              "       0.0000000e+00, 0.0000000e+00, 0.0000000e+00, 0.0000000e+00,\n",
              "       0.0000000e+00, 0.0000000e+00, 0.0000000e+00, 0.0000000e+00,\n",
              "       0.0000000e+00, 0.0000000e+00, 0.0000000e+00, 0.0000000e+00,\n",
              "       0.0000000e+00, 0.0000000e+00, 0.0000000e+00, 0.0000000e+00,\n",
              "       0.0000000e+00, 0.0000000e+00, 0.0000000e+00, 0.0000000e+00,\n",
              "       0.0000000e+00, 0.0000000e+00, 0.0000000e+00, 0.0000000e+00,\n",
              "       0.0000000e+00, 0.0000000e+00, 0.0000000e+00, 0.0000000e+00,\n",
              "       0.0000000e+00, 0.0000000e+00, 0.0000000e+00, 0.0000000e+00,\n",
              "       0.0000000e+00, 0.0000000e+00, 0.0000000e+00, 0.0000000e+00,\n",
              "       0.0000000e+00, 0.0000000e+00, 0.0000000e+00, 0.0000000e+00,\n",
              "       0.0000000e+00, 0.0000000e+00, 0.0000000e+00, 0.0000000e+00,\n",
              "       0.0000000e+00, 0.0000000e+00, 0.0000000e+00, 0.0000000e+00],\n",
              "      dtype=float32)"
            ]
          },
          "metadata": {},
          "execution_count": 19
        }
      ]
    }
  ]
}